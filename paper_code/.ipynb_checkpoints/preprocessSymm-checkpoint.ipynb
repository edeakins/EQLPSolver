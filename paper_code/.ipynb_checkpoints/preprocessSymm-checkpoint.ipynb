{
 "cells": [
  {
   "cell_type": "code",
   "execution_count": 9,
   "metadata": {},
   "outputs": [],
   "source": [
    "from gurobipy import *\n",
    "import os\n",
    "import shutil\n",
    "import pandas as pd\n",
    "\n",
    "data = pd.DataFrame(pd.read_csv(\"../EQLPSolver/DHiGHS/build/bin/saucyOut.csv\"))\n",
    "inDir = \"../EQLPSolver/mittleman_symmetric_mps/\"\n",
    "outDir = \"../EQLPSolver/mittlman_to_big_for_saucy/\"\n",
    "\n",
    "idx = 0\n",
    "for stat in data.loc[:,\"Status\"]:\n",
    "    if stat == \"bad memory\":\n",
    "        name = data.loc[idx, \"Instance\"][33:]\n",
    "        shutil.move(inDir + name, outDir + name)\n",
    "    elif stat == \"bad overFlow\":\n",
    "        name = data.loc[idx, \"Instance\"][33:]\n",
    "        shutil.move(inDir + name, outDir + name)\n",
    "    idx += 1"
   ]
  },
  {
   "cell_type": "code",
   "execution_count": 13,
   "metadata": {},
   "outputs": [],
   "source": [
    "data = pd.DataFrame(pd.read_csv(\"../EQLPSolver/DHiGHS/build/bin/HiGHS_Mittleman_timings.csv\"))\n",
    "inDir = \"../EQLPSolver/mittleman_symmetric_mps/\"\n",
    "outDir = \"../EQLPSolver/mittleman_symmetric_1/\"\n",
    "\n",
    "idx = 0\n",
    "for stat in data.loc[:,\"Total Time\"]:\n",
    "    if stat > 1:\n",
    "        name = data.loc[idx, \"Instance\"][12:]\n",
    "        shutil.move(inDir + name, outDir + name)\n",
    "    idx += 1"
   ]
  },
  {
   "cell_type": "code",
   "execution_count": null,
   "metadata": {},
   "outputs": [],
   "source": []
  }
 ],
 "metadata": {
  "kernelspec": {
   "display_name": "Python 3",
   "language": "python",
   "name": "python3"
  },
  "language_info": {
   "codemirror_mode": {
    "name": "ipython",
    "version": 3
   },
   "file_extension": ".py",
   "mimetype": "text/x-python",
   "name": "python",
   "nbconvert_exporter": "python",
   "pygments_lexer": "ipython3",
   "version": "3.8.3"
  }
 },
 "nbformat": 4,
 "nbformat_minor": 4
}
