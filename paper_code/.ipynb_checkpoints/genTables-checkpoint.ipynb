{
 "cells": [
  {
   "cell_type": "code",
   "execution_count": 49,
   "metadata": {},
   "outputs": [
    {
     "name": "stdout",
     "output_type": "stream",
     "text": [
      "                Instance  Column (%)  Row (%)  Nonzero (%)  Solve Time (OC)  \\\n",
      "0   30_70_45_095_100.mps        0.02     0.02         0.02            12.22   \n",
      "1    ash608gpia-3col.mps       80.00    66.67        69.65             0.24   \n",
      "2       core2536-691.mps        0.08     1.89         0.61             4.43   \n",
      "3      core4872-1529.mps        1.12     2.24         1.72            26.76   \n",
      "4          ex1010-pi.mps       13.79     0.94         6.49             4.45   \n",
      "5                ex9.mps       79.60    76.43        75.92             5.00   \n",
      "6       neos-1601936.mps       15.50    10.10         1.82             0.99   \n",
      "9        neos-476283.mps        0.87     0.46         0.33             1.24   \n",
      "10       neos-738098.mps       93.76    95.66        95.72             1.87   \n",
      "11       neos-932816.mps       66.13    69.75        68.16             0.71   \n",
      "12       neos-935627.mps       70.72    65.83        67.04             6.25   \n",
      "13       neos-935769.mps       69.90    61.08        65.30             1.63   \n",
      "14       neos-937511.mps       67.91    60.21        64.68             2.42   \n",
      "15       neos-937815.mps       64.45    60.49        60.98             4.06   \n",
      "16       neos-941262.mps       60.03    53.65        54.59             2.36   \n",
      "17       neos-948126.mps       65.56    60.77        62.25             3.22   \n",
      "18       neos-984165.mps       62.55    57.46        58.78             2.98   \n",
      "20         ns1856153.mps       53.69    49.26        50.64             0.67   \n",
      "21          ns894236.mps        2.16     7.36         2.44             5.08   \n",
      "22         queens-30.mps       92.86    93.10        94.47             2.12   \n",
      "23            ramos3.mps       99.98    99.98       100.00             6.87   \n",
      "24             t1717.mps       78.07    71.21        74.08             3.14   \n",
      "25             t1722.mps       75.57    62.65        70.80             0.68   \n",
      "\n",
      "    Solve Time (HiGHS)  \n",
      "0                13.03  \n",
      "1                 1.23  \n",
      "2                 3.81  \n",
      "3                26.43  \n",
      "4                23.29  \n",
      "5                35.67  \n",
      "6                 1.02  \n",
      "9                 0.98  \n",
      "10                5.92  \n",
      "11                3.84  \n",
      "12                6.69  \n",
      "13                4.06  \n",
      "14                5.90  \n",
      "15                7.73  \n",
      "16               12.48  \n",
      "17               13.54  \n",
      "18               12.09  \n",
      "20                1.16  \n",
      "21                2.91  \n",
      "22                4.83  \n",
      "23               43.45  \n",
      "24               27.17  \n",
      "25                4.96  \n"
     ]
    }
   ],
   "source": [
    "import pandas as pd\n",
    "import os\n",
    "from matplotlib import pyplot as plt\n",
    "import numpy as np\n",
    "\n",
    "\"\"\" Record all data in to pandas dataframes.  Join data for solve time comparisons and \n",
    "strip data for time break downs in OC.  Uncomment last section of code to have latex tables \n",
    "printed from dataframes. \"\"\"\n",
    "dfDict = {}\n",
    "inPath = \"../ResultLogs/\"\n",
    "for fName in os.listdir(inPath):\n",
    "    key = fName.split(\".\")[0]\n",
    "    dfDict[key] = pd.DataFrame(pd.read_csv(inPath + fName))\n",
    "\n",
    "totTime_MIPLIB_comp = pd.merge(dfDict[\"MIPLIB2010_OC_times\"][[\"Instance\", \"Solve Time (OC)\"]],\n",
    "                               dfDict[\"MIPLIB2010_HiGHS_times\"][[\"Instance\",\"Solve Time (HiGHS)\"]],\n",
    "                               on=\"Instance\", how=\"left\")\n",
    "totTime_HSCOVCOD_comp = pd.merge(dfDict[\"HS-COV-COD_OC_times\"][[\"Instance\", \"Solve Time (OC)\"]],\n",
    "                               dfDict[\"HS-COV-COD_HiGHS_times\"][[\"Instance\",\"Solve Time (HiGHS)\"]],\n",
    "                               on=\"Instance\", how=\"left\")\n",
    "bDown_MIPLIB = pd.DataFrame(dfDict[\"MIPLIB2010_OC_times\"][[\"Instance\",\"Partition Time\",\"Fold LP Time\",\n",
    "                                                           \"Solve ALP Time\",\"Lift ALP Time\", \"Solve ELP Time\"]])\n",
    "bDown_HSCOVCOD = pd.DataFrame(dfDict[\"HS-COV-COD_OC_times\"][[\"Instance\",\"Partition Time\",\"Fold LP Time\",\n",
    "                                                           \"Solve ALP Time\",\"Lift ALP Time\", \"Solve ELP Time\"]])\n",
    "\n",
    "totTime_MIPLIB_comp = dfDict[\"MIPLIB2010_reductions\"].merge(totTime_MIPLIB_comp, on=\"Instance\", how=\"right\").round(decimals=2)\n",
    "totTime_HSCOVCOD_comp = dfDict[\"HS-COV-COD_reductions\"].merge(totTime_HSCOVCOD_comp, on=\"Instance\", how=\"right\").round(decimals=2)\n",
    "\n",
    "# Remove instance results with fake symmetries (duplicated cols, rows)\n",
    "idx = 0\n",
    "for row in totTime_MIPLIB_comp.loc[:,\"Instance\"]:\n",
    "    if (totTime_MIPLIB_comp.loc[idx,\"Column (%)\"] > 0 and\n",
    "        totTime_MIPLIB_comp.loc[idx,\"Row (%)\"] > 0):\n",
    "        idx += 1\n",
    "        continue\n",
    "    totTime_MIPLIB_comp = totTime_MIPLIB_comp.drop(idx)\n",
    "    idx += 1\n",
    "print(totTime_MIPLIB_comp)\n",
    "        \n",
    "\n",
    "# print(totTime_MIPLIB_comp.to_latex(index=False, caption=\"Comparison of OC vs HiGHS Solve Times (\\\\textbf{MIPLIB-2010})\",\n",
    "#                                     label=\"tab:miplib_tot\"))\n",
    "# print(totTime_HSCOVCOD_comp.to_latex(index=False, caption=\"Comparison of OC vs HiGHS Solve Times (\\\\textbf{HS-COV-COD})\",\n",
    "#                                     label=\"tab:hscovcod_tot\", longtable=True))\n",
    "# print(bDown_MIPLIB.to_latex(index=False, caption=\"Breakdown of Time Spent in Major OC Components (\\\\textbf{MIPLIB-2010})\",\n",
    "#                                     label=\"tab:miplib_bd\"))\n",
    "# print(bDown_HSCOVCOD.to_latex(index=False, caption=\"Breakdown of Time Spent in Major OC Components (\\\\textbf{HS-COV-COD})\",\n",
    "#                                     label=\"tab:hscovcod_bd\", longtable=True))\n",
    "# print(red_MIPLIB.to_latex(index=False, caption=\"Percentage Reduction of Columns, Rows, and Nonzeros by OC (\\\\textbf{MIPLIB-2010})\",\n",
    "#                                     label=\"tab:miplib_red\"))\n",
    "# print(red_HSCOVCOD.to_latex(index=False, caption=\"Percentage Reduction of Columns, Rows, and Nonzeros by OC(\\\\textbf{HS-COV-COD})\",\n",
    "#                                     label=\"tab:hscovcod_red\", longtable=True))"
   ]
  },
  {
   "cell_type": "code",
   "execution_count": 55,
   "metadata": {},
   "outputs": [
    {
     "name": "stdout",
     "output_type": "stream",
     "text": [
      "OC wins: 19\n",
      "Total runs: 23\n",
      "Total Solve Time (OC): 99.390\n",
      "Total Solve Time (HiGHS): 262.190\n",
      "Total Percent Gain: 62.09\n",
      "\n",
      "\n",
      "OC wins: 73\n",
      "Total runs: 73\n",
      "Total Solve Time (OC): 3080.790\n",
      "Total Solve Time (HiGHS): 46720.770\n",
      "Total Percent Gain: 93.41\n"
     ]
    }
   ],
   "source": [
    "# Record how many instances solved faster with OC \n",
    "# and total solve times for both methods (MIPLIB)\n",
    "idx = 0\n",
    "win = 0\n",
    "total = 0\n",
    "totH = 0\n",
    "totO = 0\n",
    "for row in totTime_MIPLIB_comp.itertuples():\n",
    "    if (row._5 < row._6):\n",
    "        win += 1\n",
    "    total += 1\n",
    "    totO += row._5\n",
    "    totH += row._6\n",
    "    idx += 1\n",
    "    \n",
    "print(\"OC wins: %i\\nTotal runs: %i\\nTotal Solve Time (OC): %.3f\\nTotal Solve Time (HiGHS): %.3f\\nTotal Percent Gain: %.2f\"\n",
    "      % (win, total, totO, totH, ((totH - totO)/totH*100)))\n",
    "\n",
    "# Record same info for HS-COV-COD\n",
    "print(\"\\n\")\n",
    "idx = 0\n",
    "win = 0\n",
    "total = 0\n",
    "totH = 0\n",
    "totO = 0\n",
    "for row in totTime_HSCOVCOD_comp.loc[:,\"Instance\"]:\n",
    "    if (row._5 < row._6):\n",
    "        win += 1\n",
    "    total += 1\n",
    "    totO += row._5\n",
    "    totH += row._6\n",
    "    idx += 1\n",
    "    \n",
    "print(\"OC wins: %i\\nTotal runs: %i\\nTotal Solve Time (OC): %.3f\\nTotal Solve Time (HiGHS): %.3f\\nTotal Percent Gain: %.2f\"\n",
    "      % (win, total, totO, totH, ((totH - totO)/totH*100)))"
   ]
  },
  {
   "cell_type": "code",
   "execution_count": 12,
   "metadata": {},
   "outputs": [
    {
     "name": "stdout",
     "output_type": "stream",
     "text": [
      "MIPLIB\n",
      "Average Reduction in Columns: 46.90\n",
      "Average Reduction in Rows: 43.35\n",
      "Average Reduction in Nonzeros: 44.10\n"
     ]
    }
   ],
   "source": [
    "# Record info for plot of reductions vs performance gain (MIPLIB)\n",
    "redColMip = red_MIPLIB.loc[:,\"Column (%)\"]\n",
    "redRowMip = red_MIPLIB.loc[:,\"Row (%)\"]\n",
    "redNnzMip = red_MIPLIB.loc[:,\"Nonzero (%)\"]\n",
    "\n",
    "percGainMip = ((totTime_MIPLIB_comp.loc[:,\"Solve Time (HiGHS)\"] - totTime_MIPLIB_comp.loc[:,\"Solve Time (OC)\"]\n",
    "                )/totTime_MIPLIB_comp.loc[:,\"Solve Time (HiGHS)\"] * 100)\n",
    "\n",
    "# Record info for plot of reductions vs performance gain (HSCOVCOD)\n",
    "redColHS = red_HSCOVCOD.loc[:,\"Column (%)\"]\n",
    "redRowHS = red_HSCOVCOD.loc[:,\"Row (%)\"]\n",
    "redNnzHS = red_HSCOVCOD.loc[:,\"Nonzero (%)\"]\n",
    "\n",
    "percGainHS = ((totTime_HSCOVCOD_comp.loc[:,\"Solve Time (HiGHS)\"] - totTime_HSCOVCOD_comp.loc[:,\"Solve Time (OC)\"]\n",
    "                )/totTime_HSCOVCOD_comp.loc[:,\"Solve Time (HiGHS)\"] * 100)\n",
    "\n",
    "print(\"MIPLIB\\nAverage Reduction in Columns: %.2f\\nAverage Reduction in Rows: %.2f\\nAverage Reduction in Nonzeros: %.2f\"\n",
    "      % (np.mean(redColMip), np.mean(redRowMip), np.mean(redNnzMip)))"
   ]
  },
  {
   "cell_type": "code",
   "execution_count": 13,
   "metadata": {},
   "outputs": [
    {
     "data": {
      "image/png": "[encoded data removed]",
      "text/plain": [
       "<Figure size 432x288 with 1 Axes>"
      ]
     },
     "metadata": {
      "needs_background": "light"
     },
     "output_type": "display_data"
    }
   ],
   "source": [
    "# Create subplot to store both graphs (uncomment first line and bottom chunk and comment\n",
    "# second line to see HS comparisons as well)\n",
    "# fig, (m, h) = plt.subplots(2)\n",
    "fig, h = plt.subplots()\n",
    "# Plot reductions vs performance for MIPLIB\n",
    "h.scatter(redColMip, percGainMip)\n",
    "h.scatter(redRowMip, percGainMip)\n",
    "h.scatter(redNnzMip, percGainMip)\n",
    "h.set_title(\"Comparison of Instance Reductions vs. Solve Time Performance Gain (MIPLIB-2010)\")\n",
    "h.set(xlabel=\"Column/Row/Nonzero Reduction (%)\", ylabel=\"Solve Time Performance Gain (%)\")\n",
    "h.legend([\"Column Reduction\", \"Row Reduction\", \"Nonzero Reduction\"],loc=\"lower right\")\n",
    "\n",
    "\n",
    "# # Plot reductions vs performance for MIPLIB\n",
    "# m.scatter(redColHS, percGainHS)\n",
    "# m.scatter(redRowHS, percGainHS)\n",
    "# m.scatter(redNnzHS, percGainHS)\n",
    "# m.set_title(\"Comparison of Instance Reductions vs. Solve Time Performance Gain (HS-COV-COD)\")\n",
    "# m.set(xlabel=\"Column/Row/Nonzero Reduction (%)\", ylabel=\"Solve Time Performance Gain (%)\")\n",
    "# h.legend([\"Column Reduction\", \"Row Reduction\", \"Nonzero Reduction\"],loc=\"lower right\")\n",
    "fig.show()\n",
    "fig.savefig(\"perfPlots.png\")"
   ]
  },
  {
   "cell_type": "code",
   "execution_count": 8,
   "metadata": {},
   "outputs": [
    {
     "name": "stdout",
     "output_type": "stream",
     "text": [
      "Partition: 0.96\n",
      "Fold: 0.11\n",
      "Solve ALP: 72.57\n",
      "Lift ALP: 0.06\n",
      "SolveELP: 26.29\n",
      "\n",
      "\n",
      "Partition: 0.0410\n",
      "Fold: 0.0023\n",
      "Solve ALP: 0.0045\n",
      "Lift ALP: 0.0049\n",
      "SolveELP: 99.9472\n"
     ]
    }
   ],
   "source": [
    "# Total break down times and calculate percentages spent in different\n",
    "# components of OC (MIPLIB)\n",
    "part = np.sum(bDown_MIPLIB.loc[:,\"Partition Time\"])\n",
    "fold = np.sum(bDown_MIPLIB.loc[:,\"Fold LP Time\"])\n",
    "solveALP = np.sum(bDown_MIPLIB.loc[:,\"Solve ALP Time\"])\n",
    "liftALP = np.sum(bDown_MIPLIB.loc[:,\"Lift ALP Time\"])\n",
    "solveELP = np.sum(bDown_MIPLIB.loc[:,\"Solve ELP Time\"])\n",
    "tot = part + fold + solveALP + liftALP + solveELP\n",
    "print(\"Partition: %.2f\\nFold: %.2f\\nSolve ALP: %.2f\\nLift ALP: %.2f\\nSolveELP: %.2f\" % \n",
    "      (part/tot*100, fold/tot*100, solveALP/tot*100, liftALP/tot*100, solveELP/tot*100))\n",
    "\n",
    "# Total break down times and calculate percentages spent in different\n",
    "# components of OC (HS-COV-COD)\n",
    "print(\"\\n\")\n",
    "part = np.sum(bDown_HSCOVCOD.loc[:,\"Partition Time\"])\n",
    "fold = np.sum(bDown_HSCOVCOD.loc[:,\"Fold LP Time\"])\n",
    "solveALP = np.sum(bDown_HSCOVCOD.loc[:,\"Solve ALP Time\"])\n",
    "liftALP = np.sum(bDown_HSCOVCOD.loc[:,\"Lift ALP Time\"])\n",
    "solveELP = np.sum(bDown_HSCOVCOD.loc[:,\"Solve ELP Time\"])\n",
    "tot = part + fold + solveALP + liftALP + solveELP\n",
    "print(\"Partition: %.4f\\nFold: %.4f\\nSolve ALP: %.4f\\nLift ALP: %.4f\\nSolveELP: %.4f\" % \n",
    "      (part/tot*100, fold/tot*100, solveALP/tot*100, liftALP/tot*100, solveELP/tot*100))"
   ]
  },
  {
   "cell_type": "code",
   "execution_count": null,
   "metadata": {},
   "outputs": [],
   "source": []
  }
 ],
 "metadata": {
  "kernelspec": {
   "display_name": "Python 3",
   "language": "python",
   "name": "python3"
  },
  "language_info": {
   "codemirror_mode": {
    "name": "ipython",
    "version": 3
   },
   "file_extension": ".py",
   "mimetype": "text/x-python",
   "name": "python",
   "nbconvert_exporter": "python",
   "pygments_lexer": "ipython3",
   "version": "3.8.3"
  }
 },
 "nbformat": 4,
 "nbformat_minor": 4
}
