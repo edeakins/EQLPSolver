{
 "cells": [
  {
   "cell_type": "code",
   "execution_count": 8,
   "metadata": {},
   "outputs": [
    {
     "name": "stdout",
     "output_type": "stream",
     "text": [
      "atlanta-ip.mps\n",
      "biella1.mps\n",
      "datt256.mps\n",
      "dolom1.mps\n",
      "ds-big.mps\n",
      "ivu06-big.mps\n",
      "lectsched-1-obj.mps\n",
      "lectsched-1.mps\n",
      "lectsched-2.mps\n",
      "leo2.mps\n",
      "momentum1.mps\n",
      "momentum3.mps\n",
      "n3seq24.mps\n",
      "nb10tb.mps\n",
      "neos-631710.mps\n",
      "neos-885524.mps\n",
      "npmv07.mps\n",
      "ns1111636.mps\n",
      "ns1456591.mps\n",
      "ns1663818.mps\n",
      "nsr8k.mps\n",
      "ofi.mps\n",
      "rail02.mps\n",
      "rococoC12-111000.mps\n",
      "sct1.mps\n",
      "sct5.mps\n",
      "seymour-disj-10.mps\n",
      "siena1.mps\n",
      "sing161.mps\n",
      "sing2.mps\n",
      "sing245.mps\n",
      "stockholm.mps\n",
      "swath.mps\n",
      "uc-case11.mps\n",
      "unitcal_7.mps\n"
     ]
    }
   ],
   "source": [
    "from gurobipy import *\n",
    "import os\n",
    "import shutil\n",
    "import pandas as pd\n",
    "\n",
    "data = pd.DataFrame(pd.read_csv(\"../EQLPSolver/DHiGHS/build/bin/saucyOut.csv\"))\n",
    "inDir = \"../EQLPSolver/mittleman_symmetric_mps/\"\n",
    "outDir = \"../EQLPSolver/mittlman_to_big_for_saucy/\"\n",
    "\n",
    "idx = 0\n",
    "for stat in data.loc[:,\"Status\"]:\n",
    "    if stat == \"bad memory\":\n",
    "        name = data.loc[idx, \"Instance\"][33:]\n",
    "        shutil.move(inDir + name, outDir + name)\n",
    "    elif stat == \"bad overFlow\":\n",
    "        name = data.loc[idx, \"Instance\"][33:]\n",
    "        shutil.move(inDir + name, outDir + name)\n",
    "    idx += 1"
   ]
  },
  {
   "cell_type": "code",
   "execution_count": null,
   "metadata": {},
   "outputs": [],
   "source": []
  }
 ],
 "metadata": {
  "kernelspec": {
   "display_name": "Python 3",
   "language": "python",
   "name": "python3"
  },
  "language_info": {
   "codemirror_mode": {
    "name": "ipython",
    "version": 3
   },
   "file_extension": ".py",
   "mimetype": "text/x-python",
   "name": "python",
   "nbconvert_exporter": "python",
   "pygments_lexer": "ipython3",
   "version": "3.8.3"
  }
 },
 "nbformat": 4,
 "nbformat_minor": 4
}
