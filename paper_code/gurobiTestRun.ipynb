{
 "cells": [
  {
   "cell_type": "code",
   "execution_count": 2,
   "metadata": {},
   "outputs": [],
   "source": [
    "from gurobipy import *"
   ]
  },
  {
   "cell_type": "code",
   "execution_count": 5,
   "metadata": {},
   "outputs": [
    {
     "name": "stdout",
     "output_type": "stream",
     "text": [
      "Read MPS format model from file ../EQLPSolver/DHiGHS/build/bin/level_0.mps\n",
      "Reading time = 0.24 seconds\n",
      ": 104223 rows, 218963 columns, 841541 nonzeros\n",
      "Changed value of parameter Method to 0\n",
      "   Prev: -1  Min: -1  Max: 5  Default: -1\n",
      "Gurobi Optimizer version 9.1.1 build v9.1.1rc0 (linux64)\n",
      "Thread count: 12 physical cores, 24 logical processors, using up to 24 threads\n",
      "Optimize a model with 104223 rows, 218963 columns and 841541 nonzeros\n",
      "Model fingerprint: 0x85ad3f7e\n",
      "Coefficient statistics:\n",
      "  Matrix range     [3e-08, 2e+06]\n",
      "  Objective range  [3e-02, 1e+03]\n",
      "  Bounds range     [1e-03, 3e+08]\n",
      "  RHS range        [2e-01, 6e+11]\n",
      "Warning: Model contains large matrix coefficient range\n",
      "Warning: Model contains large rhs\n",
      "         Consider reformulating model or setting NumericFocus parameter\n",
      "         to avoid numerical issues.\n",
      "Presolve removed 3497 rows and 7022 columns\n",
      "Presolve time: 0.41s\n",
      "Presolved: 100726 rows, 211941 columns, 833727 nonzeros\n",
      "\n",
      "Iteration    Objective       Primal Inf.    Dual Inf.      Time\n",
      "       0    1.4820419e+08   4.200947e+04   4.850375e+08      1s\n",
      "Extra simplex iterations after uncrush: 1\n",
      "   59421    2.3422912e+09   0.000000e+00   0.000000e+00      2s\n",
      "\n",
      "Solved in 59421 iterations and 2.46 seconds\n",
      "Optimal objective  2.342291203e+09\n",
      "Warning: unscaled dual violation = 2.47152e-06 and residual = 9.31323e-10\n"
     ]
    }
   ],
   "source": [
    "m = read(\"../EQLPSolver/DHiGHS/build/bin/level_0.mps\")\n",
    "m.Params.Method = 0\n",
    "m.optimize()"
   ]
  },
  {
   "cell_type": "code",
   "execution_count": 7,
   "metadata": {},
   "outputs": [
    {
     "name": "stdout",
     "output_type": "stream",
     "text": [
      "Read MPS format model from file ../EQLPSolver/LPGeneration/benchmarkInstances/codbt151.mps\n",
      "Reading time = 0.00 seconds\n",
      ": 486 rows, 486 columns, 5832 nonzeros\n",
      "Gurobi Optimizer version 9.1.1 build v9.1.1rc0 (linux64)\n",
      "Thread count: 12 physical cores, 24 logical processors, using up to 24 threads\n",
      "Optimize a model with 486 rows, 486 columns and 5832 nonzeros\n",
      "Model fingerprint: 0x56fc0fea\n",
      "Coefficient statistics:\n",
      "  Matrix range     [1e+00, 1e+00]\n",
      "  Objective range  [1e+00, 1e+00]\n",
      "  Bounds range     [1e+00, 1e+00]\n",
      "  RHS range        [1e+00, 1e+00]\n",
      "Presolve time: 0.00s\n",
      "Presolved: 486 rows, 486 columns, 5832 nonzeros\n",
      "\n",
      "Iteration    Objective       Primal Inf.    Dual Inf.      Time\n",
      "       0    0.0000000e+00   4.860000e+02   0.000000e+00      0s\n",
      "    1629    4.0500000e+01   0.000000e+00   0.000000e+00      0s\n",
      "\n",
      "Solved in 1629 iterations and 0.22 seconds\n",
      "Optimal objective  4.050000000e+01\n"
     ]
    }
   ],
   "source": [
    "m = read(\"../EQLPSolver/LPGeneration/benchmarkInstances/codbt151.mps\")\n",
    "m.optimize()"
   ]
  },
  {
   "cell_type": "code",
   "execution_count": 9,
   "metadata": {},
   "outputs": [
    {
     "name": "stdout",
     "output_type": "stream",
     "text": [
      "Read MPS format model from file ../EQLPSolver/mittleman_symmetric_mps//sct5.mps\n",
      "Reading time = 0.04 seconds\n",
      "sct5: 13304 rows, 37265 columns, 147037 nonzeros\n",
      "Gurobi Optimizer version 9.1.1 build v9.1.1rc0 (linux64)\n",
      "Thread count: 12 physical cores, 24 logical processors, using up to 24 threads\n",
      "Optimize a model with 13304 rows, 37265 columns and 147037 nonzeros\n",
      "Model fingerprint: 0x402d2d85\n",
      "Coefficient statistics:\n",
      "  Matrix range     [2e-03, 2e+05]\n",
      "  Objective range  [1e-02, 1e+03]\n",
      "  Bounds range     [1e+00, 1e+00]\n",
      "  RHS range        [1e-01, 1e+05]\n",
      "\n",
      "Concurrent LP optimizer: primal simplex, dual simplex, and barrier\n",
      "Showing barrier log only...\n",
      "\n",
      "Presolve removed 2576 rows and 9230 columns\n",
      "Presolve time: 0.05s\n",
      "Presolved: 10728 rows, 28035 columns, 119940 nonzeros\n",
      "\n",
      "Ordering time: 0.01s\n",
      "\n",
      "Barrier statistics:\n",
      " AA' NZ     : 7.697e+04\n",
      " Factor NZ  : 1.336e+05 (roughly 8 MBytes of memory)\n",
      " Factor Ops : 9.906e+06 (less than 1 second per iteration)\n",
      " Threads    : 10\n",
      "\n",
      "                  Objective                Residual\n",
      "Iter       Primal          Dual         Primal    Dual     Compl     Time\n",
      "   0   1.17726285e+05 -2.23929567e+05  1.69e+05 1.57e-02  9.33e+02     0s\n",
      "   1   9.33801081e+04 -2.24537554e+05  1.29e+05 1.17e+00  7.06e+02     0s\n",
      "   2   4.45575873e+04 -1.88589521e+05  3.80e+04 6.84e-01  3.04e+02     0s\n",
      "   3   1.26489267e+04 -1.31110472e+05  6.19e+03 1.05e-01  6.04e+01     0s\n",
      "   4   4.16091817e+03 -3.25689783e+04  2.07e+03 1.39e-02  1.46e+01     0s\n",
      "   5   7.40412616e+02 -9.53852759e+03  3.46e+02 1.49e-03  2.80e+00     0s\n",
      "   6   3.03033649e+02 -5.29985598e+03  1.88e+02 7.16e-04  1.42e+00     0s\n",
      "   7   3.17697448e+01 -2.74048154e+03  9.08e+01 2.11e-04  6.37e-01     0s\n",
      "   8  -1.55346388e+02 -1.48845869e+03  2.45e+01 3.92e-05  2.34e-01     0s\n",
      "   9  -1.86312755e+02 -8.73004661e+02  1.37e+01 3.19e-05  1.14e-01     0s\n",
      "  10  -2.08666852e+02 -4.59111251e+02  5.52e+00 1.42e-14  3.83e-02     0s\n",
      "  11  -2.18407916e+02 -3.08147677e+02  2.11e+00 1.78e-15  1.31e-02     0s\n",
      "  12  -2.25592648e+02 -2.46529366e+02  4.17e-02 1.42e-14  2.87e-03     0s\n",
      "  13  -2.26505718e+02 -2.33812653e+02  1.38e-02 1.42e-14  1.00e-03     0s\n",
      "  14  -2.26640315e+02 -2.31003641e+02  1.22e-02 2.84e-14  5.99e-04     0s\n",
      "  15  -2.27143091e+02 -2.30130255e+02  6.81e-03 1.42e-14  4.10e-04     0s\n",
      "  16  -2.27474028e+02 -2.29705309e+02  4.18e-03 8.88e-16  3.06e-04     0s\n",
      "  17  -2.27699784e+02 -2.28804048e+02  2.85e-03 4.26e-14  1.51e-04     0s\n",
      "  18  -2.27849249e+02 -2.28732210e+02  2.00e-03 1.78e-15  1.21e-04     0s\n",
      "  19  -2.27887334e+02 -2.28705971e+02  1.73e-03 1.45e-08  1.12e-04     0s\n",
      "  20  -2.27940347e+02 -2.28648634e+02  1.41e-03 1.42e-14  9.71e-05     0s\n",
      "  21  -2.27961520e+02 -2.28519325e+02  1.30e-03 4.39e-10  7.65e-05     0s\n",
      "  22  -2.27994172e+02 -2.28481992e+02  1.07e-03 1.78e-15  6.69e-05     0s\n",
      "  23  -2.28030758e+02 -2.28433157e+02  8.12e-04 1.42e-14  5.51e-05     0s\n",
      "  24  -2.28046998e+02 -2.28363715e+02  6.97e-04 1.69e-09  4.34e-05     0s\n",
      "  25  -2.28072625e+02 -2.28286149e+02  5.27e-04 1.42e-14  2.93e-05     0s\n",
      "  26  -2.28086953e+02 -2.28287996e+02  4.50e-04 1.78e-15  2.76e-05     0s\n",
      "  27  -2.28093128e+02 -2.28279250e+02  4.17e-04 4.26e-14  2.55e-05     0s\n",
      "\n",
      "Barrier performed 27 iterations in 0.27 seconds\n",
      "Optimization interrupted\n",
      "\n",
      "\n",
      "Solved with primal simplex\n",
      "Solved in 5632 iterations and 0.27 seconds\n",
      "Optimal objective -2.281765521e+02\n"
     ]
    }
   ],
   "source": [
    "m = read(\"../EQLPSolver/mittleman_symmetric_mps//sct5.mps\")\n",
    "m.optimize()"
   ]
  },
  {
   "cell_type": "code",
   "execution_count": 12,
   "metadata": {},
   "outputs": [
    {
     "name": "stdout",
     "output_type": "stream",
     "text": [
      "-0.0025359600000172122\n"
     ]
    }
   ],
   "source": [
    "obj1 = -228.17037948901\n",
    "obj2 = -2.281765521e+02\n",
    "obj3 = -2.2817401614e+02\n",
    "print(obj2 - obj3)"
   ]
  },
  {
   "cell_type": "code",
   "execution_count": null,
   "metadata": {},
   "outputs": [],
   "source": []
  }
 ],
 "metadata": {
  "kernelspec": {
   "display_name": "Python 3",
   "language": "python",
   "name": "python3"
  },
  "language_info": {
   "codemirror_mode": {
    "name": "ipython",
    "version": 3
   },
   "file_extension": ".py",
   "mimetype": "text/x-python",
   "name": "python",
   "nbconvert_exporter": "python",
   "pygments_lexer": "ipython3",
   "version": "3.8.3"
  }
 },
 "nbformat": 4,
 "nbformat_minor": 4
}
