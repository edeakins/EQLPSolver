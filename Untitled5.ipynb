{
 "cells": [
  {
   "cell_type": "code",
   "execution_count": 1,
   "metadata": {},
   "outputs": [],
   "source": [
    "from gurobipy import *"
   ]
  },
  {
   "cell_type": "code",
   "execution_count": 6,
   "metadata": {},
   "outputs": [
    {
     "name": "stdout",
     "output_type": "stream",
     "text": [
      "Read MPS format model from file ./jim_instances/sts729.mps\n",
      "Reading time = 0.10 seconds\n",
      ": 88452 rows, 729 columns, 265356 nonzeros\n",
      "Gurobi Optimizer version 9.0.3 build v9.0.3rc0 (mac64)\n",
      "Optimize a model with 88452 rows, 729 columns and 265356 nonzeros\n",
      "Model fingerprint: 0x0de5ccfb\n",
      "Coefficient statistics:\n",
      "  Matrix range     [1e+00, 1e+00]\n",
      "  Objective range  [1e+00, 1e+00]\n",
      "  Bounds range     [1e+00, 1e+00]\n",
      "  RHS range        [1e+00, 1e+00]\n",
      "\n",
      "Concurrent LP optimizer: dual simplex and barrier\n",
      "Showing barrier log only...\n",
      "\n",
      "Presolve time: 0.13s\n",
      "Presolved: 729 rows, 89181 columns, 266085 nonzeros\n",
      "\n",
      "Ordering time: 0.00s\n",
      "\n",
      "Barrier statistics:\n",
      " AA' NZ     : 0.000e+00\n",
      " Factor NZ  : 1.000e+00\n",
      " Factor Ops : 1.000e+00 (less than 1 second per iteration)\n",
      " Threads    : 1\n",
      "\n",
      "                  Objective                Residual\n",
      "Iter       Primal          Dual         Primal    Dual     Compl     Time\n",
      "   0  -5.49998243e+02  3.39989257e+02  0.00e+00 0.00e+00  8.02e+02     0s\n",
      "   1   9.20360586e+01  3.17769294e+02  0.00e+00 0.00e+00  7.52e+01     0s\n",
      "   2   2.37909164e+02  2.43017141e+02  0.00e+00 1.82e-12  1.70e+00     0s\n",
      "   3   2.42994909e+02  2.43000017e+02  0.00e+00 0.00e+00  1.70e-03     0s\n",
      "   4   2.42999995e+02  2.43000000e+02  0.00e+00 1.82e-12  1.70e-06     0s\n",
      "   5   2.43000000e+02  2.43000000e+02  0.00e+00 0.00e+00  1.70e-09     0s\n",
      "   6   2.43000000e+02  2.43000000e+02  0.00e+00 1.82e-12  1.70e-12     0s\n",
      "\n",
      "Barrier solved model in 6 iterations and 0.22 seconds\n",
      "Optimal objective 2.43000000e+02\n",
      "\n",
      "Crossover log...\n",
      "\n",
      "       0 DPushes remaining with DInf 0.0000000e+00                 0s\n",
      "\n",
      "   87723 PPushes remaining with PInf 0.0000000e+00                 0s\n",
      "       0 PPushes remaining with PInf 0.0000000e+00                 3s\n",
      "\n",
      "  Push phase complete: Pinf 0.0000000e+00, Dinf 2.1310731e-13      3s\n",
      "\n",
      "Iteration    Objective       Primal Inf.    Dual Inf.      Time\n",
      "   87727    2.4300000e+02   0.000000e+00   0.000000e+00      3s\n",
      "\n",
      "Solved with barrier\n",
      "Solved in 87727 iterations and 3.07 seconds\n",
      "Optimal objective  2.430000000e+02\n"
     ]
    }
   ],
   "source": [
    "m = read(\"./jim_instances/sts729.mps\")\n",
    "for var in m.getVars():\n",
    "    var.vType = GRB.CONTINUOUS\n",
    "m.update()\n",
    "m.write(\"./jim_instances/sts729.mps\")\n",
    "m.optimize()"
   ]
  },
  {
   "cell_type": "code",
   "execution_count": null,
   "metadata": {},
   "outputs": [],
   "source": []
  }
 ],
 "metadata": {
  "kernelspec": {
   "display_name": "Python 3",
   "language": "python",
   "name": "python3"
  },
  "language_info": {
   "codemirror_mode": {
    "name": "ipython",
    "version": 3
   },
   "file_extension": ".py",
   "mimetype": "text/x-python",
   "name": "python",
   "nbconvert_exporter": "python",
   "pygments_lexer": "ipython3",
   "version": "3.7.7"
  }
 },
 "nbformat": 4,
 "nbformat_minor": 4
}
