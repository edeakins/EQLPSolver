{
 "cells": [
  {
   "cell_type": "code",
   "execution_count": 16,
   "metadata": {},
   "outputs": [
    {
     "name": "stdout",
     "output_type": "stream",
     "text": [
      "Read LP format model from file finalIter.lp\n",
      "Reading time = 0.00 seconds\n",
      ": 10 rows, 9 columns, 26 nonzeros\n"
     ]
    }
   ],
   "source": [
    "from gurobipy import *\n",
    "m = read(\"finalIter.lp\")\n",
    "for v in m.getVars():\n",
    "    v.vBasis = 0\n",
    "c = m.getConstrs()\n",
    "for i in range(len(c)):\n",
    "    if i == 4:\n",
    "        c[i].cBasis = 0\n",
    "    else:\n",
    "        c[i].cBasis = -1\n",
    "    "
   ]
  },
  {
   "cell_type": "code",
   "execution_count": 17,
   "metadata": {},
   "outputs": [
    {
     "name": "stdout",
     "output_type": "stream",
     "text": [
      "Gurobi Optimizer version 9.0.2 build v9.0.2rc0 (mac64)\n",
      "Optimize a model with 10 rows, 9 columns and 26 nonzeros\n",
      "Coefficient statistics:\n",
      "  Matrix range     [5e-01, 1e+00]\n",
      "  Objective range  [0e+00, 0e+00]\n",
      "  Bounds range     [1e+00, 1e+00]\n",
      "  RHS range        [5e-01, 1e+00]\n",
      "Iteration    Objective       Primal Inf.    Dual Inf.      Time\n",
      "       0    0.0000000e+00   0.000000e+00   0.000000e+00      0s\n",
      "\n",
      "Solved in 0 iterations and 0.01 seconds\n",
      "Optimal objective  0.000000000e+00\n",
      "0\n",
      "0\n",
      "0\n",
      "0\n",
      "0\n",
      "0\n",
      "0\n",
      "0\n",
      "0\n",
      "-1 R0\n",
      "-1 R1\n",
      "-1 R2\n",
      "-1 R3\n",
      "0 R4\n",
      "-1 R5\n",
      "-1 R6\n",
      "-1 R7\n",
      "-1 R8\n",
      "-1 R9\n"
     ]
    }
   ],
   "source": [
    "m.optimize()\n",
    "for v in m.getVars():\n",
    "    print( v.vBasis )\n",
    "for c in m.getConstrs():\n",
    "    print( c.cBasis, c.constrName )    \n",
    "m.write(\"finalIter.sol\")"
   ]
  },
  {
   "cell_type": "code",
   "execution_count": null,
   "metadata": {},
   "outputs": [],
   "source": []
  }
 ],
 "metadata": {
  "kernelspec": {
   "display_name": "Python 3",
   "language": "python",
   "name": "python3"
  },
  "language_info": {
   "codemirror_mode": {
    "name": "ipython",
    "version": 3
   },
   "file_extension": ".py",
   "mimetype": "text/x-python",
   "name": "python",
   "nbconvert_exporter": "python",
   "pygments_lexer": "ipython3",
   "version": "3.7.7"
  }
 },
 "nbformat": 4,
 "nbformat_minor": 4
}
