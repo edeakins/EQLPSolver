{
 "cells": [
  {
   "cell_type": "code",
   "execution_count": 1,
   "metadata": {},
   "outputs": [],
   "source": [
    "import numpy as np"
   ]
  },
  {
   "cell_type": "code",
   "execution_count": 19,
   "metadata": {},
   "outputs": [
    {
     "name": "stdout",
     "output_type": "stream",
     "text": [
      "[[ 0.          0.11111111]\n",
      " [ 1.         -5.        ]]\n"
     ]
    }
   ],
   "source": [
    "B = np.array([[45,1],[9,0]])\n",
    "Binv0 = np.linalg.inv(B)\n",
    "print(Binv0)"
   ]
  },
  {
   "cell_type": "code",
   "execution_count": null,
   "metadata": {},
   "outputs": [],
   "source": [
    " con1lo: +8 x1 +8 x2 +4 x3 >= +4\n",
    " con2lo: +8 x1 +12 x2 >= +4\n",
    " con3lo: +4 x1 +1 x3 >= +1\n",
    " con4: +4 x1 +4 x2 +1 x3 = +2\n",
    " con5: -1 x1 +1 x3 -1 x4 = +0\n",
    " con6: -1 x2 +1 x3 -1 x5 = +0"
   ]
  },
  {
   "cell_type": "code",
   "execution_count": 29,
   "metadata": {},
   "outputs": [
    {
     "name": "stdout",
     "output_type": "stream",
     "text": [
      "[[ 0.00000000e+00  0.00000000e+00  0.00000000e+00  1.11111111e-01\n",
      "  -5.55555556e-01  4.44444444e-01]\n",
      " [ 0.00000000e+00  0.00000000e+00  0.00000000e+00  1.11111111e-01\n",
      "   4.44444444e-01 -5.55555556e-01]\n",
      " [-0.00000000e+00 -0.00000000e+00 -0.00000000e+00  1.11111111e-01\n",
      "   4.44444444e-01  4.44444444e-01]\n",
      " [ 1.00000000e+00 -0.00000000e+00 -0.00000000e+00 -2.22222222e+00\n",
      "  -8.88888889e-01 -8.88888889e-01]\n",
      " [-0.00000000e+00  1.00000000e+00 -0.00000000e+00 -2.22222222e+00\n",
      "  -8.88888889e-01  3.11111111e+00]\n",
      " [-0.00000000e+00 -3.08395285e-17  1.00000000e+00 -5.55555556e-01\n",
      "   1.77777778e+00 -2.22222222e+00]]\n"
     ]
    }
   ],
   "source": [
    "B = np.array([[8, 8, 4, 1, 0, 0,],\n",
    "              [8, 12, 0, 0, 1, 0],\n",
    "              [4, 0, 1, 0, 0, 1],\n",
    "              [4, 4, 1, 0, 0, 0],\n",
    "              [-1, 0, 1, 0, 0, 0],\n",
    "              [0, -1, 1, 0, 0, 0]])\n",
    "Binv1 = np.linalg.inv(B)\n",
    "print(Binv1)\n"
   ]
  },
  {
   "cell_type": "code",
   "execution_count": 40,
   "metadata": {},
   "outputs": [
    {
     "name": "stdout",
     "output_type": "stream",
     "text": [
      "1.1102230246251565e-16\n"
     ]
    }
   ],
   "source": [
    "print(sum(i for i in Binv1[1]))"
   ]
  },
  {
   "cell_type": "code",
   "execution_count": null,
   "metadata": {},
   "outputs": [],
   "source": []
  }
 ],
 "metadata": {
  "kernelspec": {
   "display_name": "Python 3",
   "language": "python",
   "name": "python3"
  },
  "language_info": {
   "codemirror_mode": {
    "name": "ipython",
    "version": 3
   },
   "file_extension": ".py",
   "mimetype": "text/x-python",
   "name": "python",
   "nbconvert_exporter": "python",
   "pygments_lexer": "ipython3",
   "version": "3.8.3"
  }
 },
 "nbformat": 4,
 "nbformat_minor": 4
}
