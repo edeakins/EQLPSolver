{
 "cells": [
  {
   "cell_type": "code",
   "execution_count": 1,
   "metadata": {},
   "outputs": [],
   "source": [
    "import numpy as np\n",
    "np.set_printoptions(suppress=True)"
   ]
  },
  {
   "cell_type": "code",
   "execution_count": 8,
   "metadata": {},
   "outputs": [
    {
     "name": "stdout",
     "output_type": "stream",
     "text": [
      "[[ 0.          0.11111111]\n",
      " [ 1.         -0.55555556]]\n",
      "[[ 1.          0.          0.11111111]\n",
      " [ 0.          1.         -0.55555556]]\n",
      "[ 0.22222222 -0.11111111]\n"
     ]
    }
   ],
   "source": [
    "A0 = np.array([[5, 1, 0],[9, 0, 1]])\n",
    "b0 = np.array([1,2])\n",
    "B0 = np.array([[5,1],[9,0]])\n",
    "Binv0 = np.linalg.inv(B0)\n",
    "print(Binv0)\n",
    "p = np.matmul(Binv0, A0)\n",
    "print(p)\n",
    "x = np.matmul(Binv0, b0)\n",
    "print(x)"
   ]
  },
  {
   "cell_type": "code",
   "execution_count": 34,
   "metadata": {},
   "outputs": [
    {
     "name": "stdout",
     "output_type": "stream",
     "text": [
      "[[ 0.  0.  0.  1.  0.  0.]\n",
      " [-0. -0. -0.  1. -1. -0.]\n",
      " [-0. -0. -0.  1. -0. -1.]\n",
      " [ 1.  0.  0.  0.  0.  0.]\n",
      " [ 0.  1.  0.  0.  0.  0.]\n",
      " [ 0.  0.  1.  0.  0.  0.]]\n"
     ]
    }
   ],
   "source": [
    "B1 = np.array([[0, 0, 0, 1, 0, 0],\n",
    "              [0, 0, 0, 0, 1, 0],\n",
    "              [0, 0, 0, 0, 0, 1],\n",
    "              [1, 0, 0, 0, 0, 0],\n",
    "              [1, -1, 0, 0, 0, 0],\n",
    "              [1, 0, -1, 0, 0, 0]])\n",
    "Binv1 = np.linalg.inv(B1)\n",
    "print(Binv1)"
   ]
  },
  {
   "cell_type": "code",
   "execution_count": 20,
   "metadata": {},
   "outputs": [
    {
     "name": "stdout",
     "output_type": "stream",
     "text": [
      "[[ 0.          0.          0.          0.11111111  0.44444444  0.44444444]\n",
      " [-0.         -0.         -0.          0.11111111 -0.55555556  0.44444444]\n",
      " [-0.         -0.         -0.          0.11111111  0.44444444 -0.55555556]\n",
      " [ 1.         -0.         -0.         -0.55555556 -0.22222222 -0.22222222]\n",
      " [ 0.          1.          0.         -0.55555556 -0.22222222  0.77777778]\n",
      " [-0.         -0.          1.         -0.55555556  1.77777778 -2.22222222]]\n"
     ]
    }
   ],
   "source": [
    "B = np.array([[1, 2, 2, 1, 0, 0],\n",
    "              [0, 2, 3, 0, 1, 0],\n",
    "              [1, 4, 0, 0, 0, 1],\n",
    "              [1, 4, 4, 0, 0, 0],\n",
    "              [1, -1, 0, 0, 0, 0],\n",
    "              [1, 0, -1, 0, 0, 0]])\n",
    "Binv1 = np.linalg.inv(B)\n",
    "print(Binv1)\n"
   ]
  },
  {
   "cell_type": "code",
   "execution_count": 40,
   "metadata": {},
   "outputs": [
    {
     "name": "stdout",
     "output_type": "stream",
     "text": [
      "1.1102230246251565e-16\n"
     ]
    }
   ],
   "source": [
    "print(sum(i for i in Binv1[1]))"
   ]
  },
  {
   "cell_type": "code",
   "execution_count": null,
   "metadata": {},
   "outputs": [],
   "source": []
  }
 ],
 "metadata": {
  "kernelspec": {
   "display_name": "Python 3",
   "language": "python",
   "name": "python3"
  },
  "language_info": {
   "codemirror_mode": {
    "name": "ipython",
    "version": 3
   },
   "file_extension": ".py",
   "mimetype": "text/x-python",
   "name": "python",
   "nbconvert_exporter": "python",
   "pygments_lexer": "ipython3",
   "version": "3.8.3"
  }
 },
 "nbformat": 4,
 "nbformat_minor": 4
}
