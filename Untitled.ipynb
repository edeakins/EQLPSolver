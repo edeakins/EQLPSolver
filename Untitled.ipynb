{
 "cells": [
  {
   "cell_type": "code",
   "execution_count": 36,
   "metadata": {},
   "outputs": [],
   "source": [
    "from gurobipy import *"
   ]
  },
  {
   "cell_type": "code",
   "execution_count": 38,
   "metadata": {},
   "outputs": [
    {
     "name": "stderr",
     "output_type": "stream",
     "text": [
      "ERROR:root:Internal Python error in the inspect module.\n",
      "Below is the traceback from this internal error.\n",
      "\n"
     ]
    },
    {
     "name": "stdout",
     "output_type": "stream",
     "text": [
      "Unable to open file './jim_instances' for input\n",
      "Traceback (most recent call last):\n",
      "  File \"/opt/miniconda3/lib/python3.7/site-packages/IPython/core/interactiveshell.py\", line 3326, in run_code\n",
      "    exec(code_obj, self.user_global_ns, self.user_ns)\n",
      "  File \"<ipython-input-38-af497e7d5b4c>\", line 1, in <module>\n",
      "    m = read(\"./jim_instances\")\n",
      "  File \"gurobi.pxi\", line 2774, in gurobipy.read\n",
      "  File \"gurobi.pxi\", line 78, in gurobipy.gurobi.read\n",
      "gurobipy.GurobiError: Unable to read model\n",
      "\n",
      "During handling of the above exception, another exception occurred:\n",
      "\n",
      "Traceback (most recent call last):\n",
      "  File \"/opt/miniconda3/lib/python3.7/site-packages/IPython/core/interactiveshell.py\", line 2040, in showtraceback\n",
      "    stb = value._render_traceback_()\n",
      "AttributeError: 'GurobiError' object has no attribute '_render_traceback_'\n",
      "\n",
      "During handling of the above exception, another exception occurred:\n",
      "\n",
      "Traceback (most recent call last):\n",
      "  File \"/opt/miniconda3/lib/python3.7/site-packages/IPython/core/ultratb.py\", line 1101, in get_records\n",
      "    return _fixed_getinnerframes(etb, number_of_lines_of_context, tb_offset)\n",
      "  File \"/opt/miniconda3/lib/python3.7/site-packages/IPython/core/ultratb.py\", line 319, in wrapped\n",
      "    return f(*args, **kwargs)\n",
      "  File \"/opt/miniconda3/lib/python3.7/site-packages/IPython/core/ultratb.py\", line 353, in _fixed_getinnerframes\n",
      "    records = fix_frame_records_filenames(inspect.getinnerframes(etb, context))\n",
      "  File \"/opt/miniconda3/lib/python3.7/inspect.py\", line 1502, in getinnerframes\n",
      "    frameinfo = (tb.tb_frame,) + getframeinfo(tb, context)\n",
      "  File \"/opt/miniconda3/lib/python3.7/inspect.py\", line 1460, in getframeinfo\n",
      "    filename = getsourcefile(frame) or getfile(frame)\n",
      "  File \"/opt/miniconda3/lib/python3.7/inspect.py\", line 696, in getsourcefile\n",
      "    if getattr(getmodule(object, filename), '__loader__', None) is not None:\n",
      "  File \"/opt/miniconda3/lib/python3.7/inspect.py\", line 725, in getmodule\n",
      "    file = getabsfile(object, _filename)\n",
      "  File \"/opt/miniconda3/lib/python3.7/inspect.py\", line 709, in getabsfile\n",
      "    return os.path.normcase(os.path.abspath(_filename))\n",
      "  File \"/opt/miniconda3/lib/python3.7/posixpath.py\", line 383, in abspath\n",
      "    cwd = os.getcwd()\n",
      "PermissionError: [Errno 1] Operation not permitted\n"
     ]
    },
    {
     "ename": "GurobiError",
     "evalue": "Unable to read model",
     "output_type": "error",
     "traceback": [
      "\u001b[0;31m---------------------------------------------------------------------------\u001b[0m"
     ]
    }
   ],
   "source": [
    "m = read(\"./jim_instances\")"
   ]
  },
  {
   "cell_type": "code",
   "execution_count": 26,
   "metadata": {},
   "outputs": [
    {
     "name": "stdout",
     "output_type": "stream",
     "text": [
      "Optimize a model with 35 rows, 35 columns and 179 nonzeros\n",
      "Coefficient statistics:\n",
      "  Matrix range     [1e+00, 6e+00]\n",
      "  Objective range  [0e+00, 0e+00]\n",
      "  Bounds range     [1e+00, 1e+00]\n",
      "  RHS range        [1e+00, 1e+00]\n",
      "\n",
      "Solved in 22 iterations and 0.01 seconds\n",
      "Optimal objective  0.000000000e+00\n",
      "0 0.09999999999999995 0\n",
      "1 0.06666666666666683 0\n",
      "2 0.16666666666666666 0\n",
      "3 0.0666666666666667 0\n",
      "4 0.0666666666666667 0\n",
      "5 0.19999999999999923 0\n",
      "6 0.13333333333333328 0\n",
      "7 0.03333333333333317 0\n",
      "8 0.03333333333333335 0\n",
      "9 0.033333333333333284 0\n",
      "10 0.2 -1\n",
      "11 0.13333333333333347 0\n",
      "12 0.033333333333333236 0\n",
      "13 0.20000000000000095 0\n",
      "14 0.19999999999999998 0\n",
      "15 0.10000000000000002 0\n",
      "16 0.13333333333333328 0\n",
      "17 0.13333333333333347 0\n",
      "18 0.09999999999999998 0\n",
      "19 0.13333333333333336 0\n",
      "20 0.09999999999999995 0\n",
      "21 0.16666666666666666 0\n",
      "22 0.06666666666666654 0\n",
      "23 0.0 0\n",
      "24 0.16666666666666666 0\n",
      "25 0.16666666666666666 0\n",
      "26 0.0 0\n",
      "27 0.0 0\n",
      "28 0.0 0\n",
      "29 0.033333333333333076 0\n",
      "30 0.0666666666666667 0\n",
      "31 0.10000000000000005 0\n",
      "32 0.0 0\n",
      "33 0.20000000000000068 0\n",
      "34 0.16666666666666666 0\n",
      "0 0.0 -1\n",
      "1 0.0 -1\n",
      "2 0.0 -1\n",
      "3 0.0 -1\n",
      "4 0.0 -1\n",
      "5 0.0 -1\n",
      "6 0.0 -1\n",
      "7 0.0 -1\n",
      "8 0.0 -1\n",
      "9 0.0 -1\n",
      "10 0.0 -1\n",
      "11 0.0 -1\n",
      "12 0.0 -1\n",
      "13 0.0 -1\n",
      "14 0.0 -1\n",
      "15 0.0 -1\n",
      "16 0.0 -1\n",
      "17 0.0 -1\n",
      "18 0.0 -1\n",
      "19 0.0 -1\n",
      "20 0.0 -1\n",
      "21 0.0 -1\n",
      "22 0.0 -1\n",
      "23 0.0 -1\n",
      "24 0.0 -1\n",
      "25 0.0 -1\n",
      "26 0.0 -1\n",
      "27 0.0 -1\n",
      "28 0.0 -1\n",
      "29 0.0 -1\n",
      "30 0.0 -1\n",
      "31 0.0 -1\n",
      "32 0.0 -1\n",
      "33 0.0 -1\n",
      "34 0.0 0\n"
     ]
    }
   ],
   "source": [
    "x = m.getVars()\n",
    "c = m.getConstrs()\n",
    "for i in range(len(x)):\n",
    "    x[i].vbasis = 0\n",
    "for i in range(len(c)):\n",
    "    c[i].cbasis = -1   \n",
    "x[10].vbasis = -1\n",
    "c[34].cbasis = 0\n",
    "m.optimize()\n",
    "\n",
    "obj = 0\n",
    "for i in range(len(x)):\n",
    "    print(i, x[i].x, x[i].vbasis)\n",
    "for i in range(len(c)):\n",
    "    print(i, c[i].slack, c[i].cbasis)"
   ]
  },
  {
   "cell_type": "code",
   "execution_count": null,
   "metadata": {},
   "outputs": [],
   "source": []
  }
 ],
 "metadata": {
  "kernelspec": {
   "display_name": "Python 3",
   "language": "python",
   "name": "python3"
  },
  "language_info": {
   "codemirror_mode": {
    "name": "ipython",
    "version": 3
   },
   "file_extension": ".py",
   "mimetype": "text/x-python",
   "name": "python",
   "nbconvert_exporter": "python",
   "pygments_lexer": "ipython3",
   "version": "3.7.4"
  }
 },
 "nbformat": 4,
 "nbformat_minor": 2
}
