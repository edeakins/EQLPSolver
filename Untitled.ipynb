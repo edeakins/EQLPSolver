{
 "cells": [
  {
   "cell_type": "code",
   "execution_count": 1,
   "metadata": {},
   "outputs": [],
   "source": [
    "from gurobipy import *"
   ]
  },
  {
   "cell_type": "code",
   "execution_count": 6,
   "metadata": {},
   "outputs": [
    {
     "name": "stdout",
     "output_type": "stream",
     "text": [
      "Read MPS format model from file ./DHiGHS/DOKSmps/test.mps\n",
      "Reading time = 0.00 seconds\n",
      ": 10 rows, 9 columns, 54 nonzeros\n"
     ]
    }
   ],
   "source": [
    "m = read(\"./DHiGHS/DOKSmps/test.mps\")\n",
    "\n",
    "v = m.getVars()\n",
    "\n",
    "for i in range(len(v)):\n",
    "    v[i].varName = (\"x_%i\" % (i + 1))\n",
    "\n",
    "m.update()\n",
    "\n",
    "m.write(\"testCodt02.lp\")"
   ]
  },
  {
   "cell_type": "code",
   "execution_count": 13,
   "metadata": {},
   "outputs": [
    {
     "name": "stdout",
     "output_type": "stream",
     "text": [
      "Read LP format model from file ./testCodt02.lp\n",
      "Reading time = 0.01 seconds\n",
      ": 13 rows, 12 columns, 63 nonzeros\n",
      "Gurobi Optimizer version 9.1.1 build v9.1.1rc0 (linux64)\n",
      "Thread count: 12 physical cores, 24 logical processors, using up to 24 threads\n",
      "Optimize a model with 13 rows, 12 columns and 63 nonzeros\n",
      "Model fingerprint: 0x4d3f03a3\n",
      "Coefficient statistics:\n",
      "  Matrix range     [1e+00, 1e+00]\n",
      "  Objective range  [1e+00, 1e+00]\n",
      "  Bounds range     [1e+00, 1e+00]\n",
      "  RHS range        [1e+00, 2e+00]\n",
      "Presolve removed 3 rows and 6 columns\n",
      "Presolve time: 0.00s\n",
      "Presolved: 10 rows, 6 columns, 42 nonzeros\n",
      "\n",
      "Iteration    Objective       Primal Inf.    Dual Inf.      Time\n",
      "       0    2.0000000e+00   2.750000e+00   0.000000e+00      0s\n",
      "       5    2.0000000e+00   0.000000e+00   0.000000e+00      0s\n",
      "\n",
      "Solved in 5 iterations and 0.01 seconds\n",
      "Optimal objective  2.000000000e+00\n",
      "x_ 0 = 0.33333333333333337 , 0\n",
      "x_ 1 = 0.33333333333333337 , 0\n",
      "x_ 2 = 0.0 , 0\n",
      "x_ 3 = 0.33333333333333337 , 0\n",
      "x_ 4 = 0.0 , 0\n",
      "x_ 5 = 0.3333333333333333 , 0\n",
      "x_ 6 = 0.0 , -1\n",
      "x_ 7 = 0.3333333333333333 , 0\n",
      "x_ 8 = 0.3333333333333333 , 0\n",
      "x_ 9 = 0.0 , -1\n",
      "x_ 10 = 0.0 , -1\n",
      "x_ 11 = 0.0 , -1\n",
      "c_ 0 = 0.0 , -1\n",
      "c_ 1 = -0.0 , 0\n",
      "c_ 2 = -0.3333333333333333 , 0\n",
      "c_ 3 = 0.0 , -1\n",
      "c_ 4 = -0.3333333333333333 , 0\n",
      "c_ 5 = 0.0 , -1\n",
      "c_ 6 = -0.33333333333333337 , 0\n",
      "c_ 7 = 0.0 , -1\n",
      "c_ 8 = -0.0 , 0\n",
      "c_ 9 = 0.0 , -1\n",
      "c_ 10 = 0.0 , -1\n",
      "c_ 11 = 0.0 , -1\n",
      "c_ 12 = 0.0 , -1\n"
     ]
    }
   ],
   "source": [
    "m = read(\"./testCodt02.lp\")\n",
    "m.optimize()\n",
    "\n",
    "v = m.getVars()\n",
    "\n",
    "for i in range(len(v)):\n",
    "    print(\"x_\", i, \"=\", v[i].x, \",\", v[i].vBasis)\n",
    "    \n",
    "c = m.getConstrs()\n",
    "\n",
    "for i in range(len(c)):\n",
    "    print(\"c_\", i, \"=\", c[i].slack, \",\", c[i].cBasis)"
   ]
  },
  {
   "cell_type": "code",
   "execution_count": null,
   "metadata": {},
   "outputs": [],
   "source": []
  }
 ],
 "metadata": {
  "kernelspec": {
   "display_name": "Python 3",
   "language": "python",
   "name": "python3"
  },
  "language_info": {
   "codemirror_mode": {
    "name": "ipython",
    "version": 3
   },
   "file_extension": ".py",
   "mimetype": "text/x-python",
   "name": "python",
   "nbconvert_exporter": "python",
   "pygments_lexer": "ipython3",
   "version": "3.8.3"
  }
 },
 "nbformat": 4,
 "nbformat_minor": 2
}
