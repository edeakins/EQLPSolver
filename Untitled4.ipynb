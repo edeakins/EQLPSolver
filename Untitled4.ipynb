{
 "cells": [
  {
   "cell_type": "code",
   "execution_count": 1,
   "metadata": {},
   "outputs": [],
   "source": [
    "import pandas as pd\n",
    "df = pd.read_csv(\"../HiGHS/build/bin/fullHighsTimings.txt\", \":\")\n",
    "df = pd.DataFrame(df)"
   ]
  },
  {
   "cell_type": "code",
   "execution_count": 2,
   "metadata": {},
   "outputs": [
    {
     "name": "stdout",
     "output_type": "stream",
     "text": [
      "    ../../../mittleman_symmetric_mps/30_70_45_095_100.mps   22.542715\n",
      "0      ../../../mittleman_symmetric_mps/acc-tight4.mps       0.402626\n",
      "1      ../../../mittleman_symmetric_mps/acc-tight5.mps       0.370131\n",
      "2      ../../../mittleman_symmetric_mps/acc-tight6.mps       0.311204\n",
      "3           ../../../mittleman_symmetric_mps/air04.mps       1.008317\n",
      "4    ../../../mittleman_symmetric_mps/ash608gpia-3c...       1.755560\n",
      "..                                                 ...            ...\n",
      "154     ../../../mittleman_symmetric_mps/uc-case11.mps      14.969089\n",
      "155   ../../../mittleman_symmetric_mps/uct-subprob.mps       0.133239\n",
      "156     ../../../mittleman_symmetric_mps/unitcal_7.mps       0.879008\n",
      "157      ../../../mittleman_symmetric_mps/wachplan.mps       0.261347\n",
      "158     ../../../mittleman_symmetric_mps/zib54-UUE.mps       0.046905\n",
      "\n",
      "[159 rows x 2 columns]\n"
     ]
    }
   ],
   "source": [
    "print(df)"
   ]
  },
  {
   "cell_type": "code",
   "execution_count": 3,
   "metadata": {},
   "outputs": [],
   "source": [
    "df.to_excel(\"./fullSolveTimes.xlsx\")"
   ]
  },
  {
   "cell_type": "code",
   "execution_count": 4,
   "metadata": {},
   "outputs": [],
   "source": [
    "import pandas as pd\n",
    "df = pd.read_csv(\"../HiGHS/build/bin/aggHighsTimings.txt\", \":\")\n",
    "df = pd.DataFrame(df)"
   ]
  },
  {
   "cell_type": "code",
   "execution_count": 5,
   "metadata": {},
   "outputs": [],
   "source": [
    "df.to_excel(\"./aggHighsTimes.xlsx\")"
   ]
  },
  {
   "cell_type": "code",
   "execution_count": null,
   "metadata": {},
   "outputs": [],
   "source": []
  }
 ],
 "metadata": {
  "kernelspec": {
   "display_name": "Python 3",
   "language": "python",
   "name": "python3"
  },
  "language_info": {
   "codemirror_mode": {
    "name": "ipython",
    "version": 3
   },
   "file_extension": ".py",
   "mimetype": "text/x-python",
   "name": "python",
   "nbconvert_exporter": "python",
   "pygments_lexer": "ipython3",
   "version": "3.7.7"
  }
 },
 "nbformat": 4,
 "nbformat_minor": 4
}
