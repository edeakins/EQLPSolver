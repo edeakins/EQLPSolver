{
 "cells": [
  {
   "cell_type": "code",
   "execution_count": 1,
   "metadata": {},
   "outputs": [],
   "source": [
    "from gurobipy import *"
   ]
  },
  {
   "cell_type": "code",
   "execution_count": 17,
   "metadata": {},
   "outputs": [
    {
     "name": "stdout",
     "output_type": "stream",
     "text": [
      "Read MPS format model from file ./DHiGHS/build/bin/highs_lp.mps\n",
      "Reading time = 0.00 seconds\n",
      ": 13 rows, 13 columns, 37 nonzeros\n",
      "[ 1.400e+01  2.800e+01  1.680e+02  5.184e+03  2.688e+03  1.000e+00\n",
      "  1.400e+01  1.680e+02  2.520e+02  8.400e+02  2.240e+03  2.800e+03\n",
      "  3.360e+03  3.456e+03  3.360e+03  4.032e+03  8.400e+02  1.120e+03\n",
      "  2.240e+03  1.000e+00 -1.000e+00 -1.000e+00  1.000e+00 -1.000e+00\n",
      " -1.000e+00  1.000e+00 -1.000e+00 -1.000e+00  1.000e+00 -1.000e+00\n",
      " -1.000e+00  1.000e+00 -1.000e+00 -1.000e+00  1.000e+00 -1.000e+00\n",
      " -1.000e+00]\n",
      "32805.0\n"
     ]
    }
   ],
   "source": [
    "m = read(\"./DHiGHS/build/bin/highs_lp.mps\")\n",
    "mat = m.getA()\n",
    "print(mat.data)\n",
    "print(sum(mat.data[i] for i in range(19)))"
   ]
  },
  {
   "cell_type": "markdown",
   "metadata": {},
   "source": [
    "m.optimize()"
   ]
  },
  {
   "cell_type": "code",
   "execution_count": 13,
   "metadata": {},
   "outputs": [
    {
     "name": "stdout",
     "output_type": "stream",
     "text": [
      "Gurobi Optimizer version 9.0.3 build v9.0.3rc0 (mac64)\n",
      "Optimize a model with 1 rows, 1 columns and 1 nonzeros\n",
      "Coefficient statistics:\n",
      "  Matrix range     [3e+04, 3e+04]\n",
      "  Objective range  [2e+03, 2e+03]\n",
      "  Bounds range     [1e+00, 1e+00]\n",
      "  RHS range        [2e+03, 2e+03]\n",
      "\n",
      "Solved in 0 iterations and 0.01 seconds\n",
      "Optimal objective -1.458000000e+02\n"
     ]
    }
   ],
   "source": [
    "m.optimize()\n",
    "m.write(\"highsLP.lp\")"
   ]
  },
  {
   "cell_type": "code",
   "execution_count": 9,
   "metadata": {},
   "outputs": [
    {
     "name": "stdout",
     "output_type": "stream",
     "text": [
      "Iteration    Objective       Primal Inf.    Dual Inf.      Time\n",
      "       0   -2.1500000e+02   2.861607e+02   0.000000e+00      0s\n",
      "\n",
      "IIS computed: 8 constraints and 1 bounds\n",
      "IIS runtime: 0.02 seconds\n"
     ]
    }
   ],
   "source": [
    "m.computeIIS()"
   ]
  },
  {
   "cell_type": "code",
   "execution_count": 21,
   "metadata": {},
   "outputs": [
    {
     "name": "stdout",
     "output_type": "stream",
     "text": [
      "Read LP format model from file cod733INF.lp\n",
      "Reading time = 0.00 seconds\n",
      "obj: 6 rows, 13 columns, 16 nonzeros\n",
      "Gurobi Optimizer version 9.0.3 build v9.0.3rc0 (mac64)\n",
      "Optimize a model with 6 rows, 13 columns and 16 nonzeros\n",
      "Model fingerprint: 0x8f264513\n",
      "Coefficient statistics:\n",
      "  Matrix range     [1e+00, 5e+03]\n",
      "  Objective range  [1e+00, 7e+02]\n",
      "  Bounds range     [1e+00, 1e+00]\n",
      "  RHS range        [1e+00, 7e+02]\n",
      "Presolve removed 6 rows and 13 columns\n",
      "Presolve time: 0.04s\n",
      "Presolve: All rows and columns removed\n",
      "Iteration    Objective       Primal Inf.    Dual Inf.      Time\n",
      "       0   -1.4100000e+02   0.000000e+00   0.000000e+00      0s\n",
      "\n",
      "Solved in 0 iterations and 0.06 seconds\n",
      "Optimal objective -1.410000000e+02\n"
     ]
    }
   ],
   "source": [
    "m = read(\"cod733INF.lp\")\n",
    "m.optimize()"
   ]
  },
  {
   "cell_type": "code",
   "execution_count": null,
   "metadata": {},
   "outputs": [],
   "source": []
  }
 ],
 "metadata": {
  "kernelspec": {
   "display_name": "Python 3",
   "language": "python",
   "name": "python3"
  },
  "language_info": {
   "codemirror_mode": {
    "name": "ipython",
    "version": 3
   },
   "file_extension": ".py",
   "mimetype": "text/x-python",
   "name": "python",
   "nbconvert_exporter": "python",
   "pygments_lexer": "ipython3",
   "version": "3.7.7"
  }
 },
 "nbformat": 4,
 "nbformat_minor": 4
}
