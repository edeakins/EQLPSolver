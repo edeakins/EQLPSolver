{
 "cells": [
  {
   "cell_type": "code",
   "execution_count": 1,
   "id": "9df6e62a",
   "metadata": {},
   "outputs": [],
   "source": [
    "import os"
   ]
  },
  {
   "cell_type": "code",
   "execution_count": 28,
   "id": "ed6ee47d",
   "metadata": {},
   "outputs": [],
   "source": [
    "# Solve method strings\n",
    "methods = [\"simplex\",\n",
    "           \"ipm\",\n",
    "           \"orbital_crossover_dual\",\n",
    "           \"orbital_crossover_ipm\",\n",
    "           \"dual_alp_standard_crossover\",\n",
    "           \"dual_alp_primal_crossover\",\n",
    "           \"ipmcross_alp_standard_crossover\",\n",
    "           \"impcross_alp_primal_crossover\",\n",
    "           \"ipm_alp_standard_crossover\",\n",
    "           \"ipm_alp_primal_crossover\",\n",
    "           \"orbital_crossover_dual_no_iter\",\n",
    "           \"orbital_crossover_ipm_no_iter\",\n",
    "           \"dual_alp_standard_crossover_iter\",\n",
    "           \"dual_alp_primal_crossover_iter\",\n",
    "           \"ipmcross_alp_standard_crossover_iter\",\n",
    "           \"ipmcross_alp_primal_crossover_iter\",\n",
    "           \"ipm_alp_standard_crossover_iter\",\n",
    "           \"ipm_alp_primal_crossover_iter\"]\n",
    "for method_id, method in enumerate(methods):\n",
    "    bin_bash_line = \"#!/bin/bash\\n\\n\"\n",
    "    write_HCC_string = (\"# HS-COV-COD Instances\\n\" +\\\n",
    "                        \"for f in ../HS-COV-COD/*; do\\n\" +\\\n",
    "                        \"   ../HiGHS-1-2-1/build/bin/highs \" +\\\n",
    "                        \"{0} --solver={1} \".format('\"$f\"', method) +\\\n",
    "                        \"--time_limit=3600 \" +\\\n",
    "                        \"--report_time_file=\" +\\\n",
    "                        \"run_method_{0}_HCC;\\n\".format(method_id + 1) +\\\n",
    "                        \"done\")\n",
    "    write_MLIB_string = (\"# MIPLIB Instances\\n\" +\\\n",
    "                         \"for f in ../MIPLIB-2017/*; do\\n\" +\\\n",
    "                         \"   ../HiGHS-1-2-1/build/bin/highs \" +\\\n",
    "                         \"{0} --solver={1} \".format('\"$f\"', method) +\\\n",
    "                         \"--time_limit=3600 \" +\\\n",
    "                         \"--report_time_file=\" +\\\n",
    "                         \"run_method_{0}_MLIB;\\n\".format(method_id + 1) +\\\n",
    "                         \"done\")\n",
    "    write_HCC_file_name = \"run_benchmarks_method_{0}_HCC.sh\".format(method_id + 1)\n",
    "    write_MLIB_file_name = \"run_benchmarks_method_{0}_MLIB.sh\".format(method_id + 1)\n",
    "    write_all_file_name = \"run_benchmarks_all.sh\"\n",
    "    write_HCC_file = open(\"./TestScripts/{0}\".format(write_HCC_file_name), \"a\")\n",
    "    write_MLIB_file = open(\"./TestScripts/{0}\".format(write_MLIB_file_name), \"a\")\n",
    "    write_all_file = open(\"./TestScripts/{0}\".format(write_all_file_name), \"a\")\n",
    "    write_HCC_file.write(bin_bash_line)\n",
    "    write_HCC_file.write(write_HCC_string)\n",
    "    write_MLIB_file.write(bin_bash_line)\n",
    "    write_MLIB_file.write(write_MLIB_string)\n",
    "    if not method_id:\n",
    "        write_all_file.write(bin_bash_line)\n",
    "    write_all_file.write(write_HCC_string + \"\\n\\n\")\n",
    "    if method_id + 1 == len(methods):\n",
    "        write_all_file.write(write_MLIB_string)\n",
    "    else:\n",
    "        write_all_file.write(write_MLIB_string + \"\\n\\n\")\n",
    "    write_all_file\n",
    "    write_HCC_file.close()\n",
    "    write_MLIB_file.close()"
   ]
  },
  {
   "cell_type": "code",
   "execution_count": 29,
   "id": "63d09475",
   "metadata": {},
   "outputs": [
    {
     "name": "stdout",
     "output_type": "stream",
     "text": [
      "* Method 1 (command line -> --solver=simplex):\n",
      "* Method 2 (command line -> --solver=ipm):\n",
      "* Method 3 (command line -> --solver=orbital_crossover_dual):\n",
      "* Method 4 (command line -> --solver=orbital_crossover_ipm):\n",
      "* Method 5 (command line -> --solver=dual_alp_standard_crossover):\n",
      "* Method 6 (command line -> --solver=dual_alp_primal_crossover):\n",
      "* Method 7 (command line -> --solver=ipmcross_alp_standard_crossover):\n",
      "* Method 8 (command line -> --solver=impcross_alp_primal_crossover):\n",
      "* Method 9 (command line -> --solver=ipm_alp_standard_crossover):\n",
      "* Method 10 (command line -> --solver=ipm_alp_primal_crossover):\n",
      "* Method 11 (command line -> --solver=orbital_crossover_dual_no_iter):\n",
      "* Method 12 (command line -> --solver=orbital_crossover_ipm_no_iter):\n",
      "* Method 13 (command line -> --solver=dual_alp_standard_crossover_iter):\n",
      "* Method 14 (command line -> --solver=dual_alp_primal_crossover_iter):\n",
      "* Method 15 (command line -> --solver=ipmcross_alp_standard_crossover_iter):\n",
      "* Method 16 (command line -> --solver=ipmcross_alp_primal_crossover_iter):\n",
      "* Method 17 (command line -> --solver=ipm_alp_standard_crossover_iter):\n",
      "* Method 18 (command line -> --solver=ipm_alp_primal_crossover_iter):\n"
     ]
    }
   ],
   "source": [
    "# Easy formatting for methods part of Readme.md\n",
    "for method_id, method in enumerate(methods):\n",
    "    desc = (\"* Method {0} (command line -> --solver={1}):\".format(method_id + 1, method))\n",
    "    print(desc)"
   ]
  },
  {
   "cell_type": "code",
   "execution_count": null,
   "id": "e7866372",
   "metadata": {},
   "outputs": [],
   "source": []
  }
 ],
 "metadata": {
  "kernelspec": {
   "display_name": "Python 3 (ipykernel)",
   "language": "python",
   "name": "python3"
  },
  "language_info": {
   "codemirror_mode": {
    "name": "ipython",
    "version": 3
   },
   "file_extension": ".py",
   "mimetype": "text/x-python",
   "name": "python",
   "nbconvert_exporter": "python",
   "pygments_lexer": "ipython3",
   "version": "3.11.5"
  }
 },
 "nbformat": 4,
 "nbformat_minor": 5
}
