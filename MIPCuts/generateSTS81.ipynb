{
 "cells": [
  {
   "cell_type": "code",
   "execution_count": 17,
   "metadata": {},
   "outputs": [],
   "source": [
    "from gurobipy import *\n",
    "import numpy as np\n",
    "from sage.combinat.designs.bibd import *"
   ]
  },
  {
   "cell_type": "code",
   "execution_count": 30,
   "metadata": {},
   "outputs": [],
   "source": [
    "sts81 = list(steiner_triple_system(81))\n",
    "m = Model()\n",
    "m.addVars(81, lb = 0, ub = 1, obj = 1)\n",
    "m.update()\n",
    "for sts in sts81:\n",
    "    m.addConstr(m.getVars()[sts[0]] + m.getVars()[sts[1]] + m.getVars()[sts[2]] >= 1)\n",
    "m.update()\n",
    "m.write(\"sts81.lp\")\n",
    "m.write(\"../jim_instances/sts81.mps\")"
   ]
  },
  {
   "cell_type": "code",
   "execution_count": 4,
   "metadata": {},
   "outputs": [
    {
     "name": "stdout",
     "output_type": "stream",
     "text": [
      "Using license file /home/edeakins/gurobi.lic\n",
      "Academic license - for non-commercial use only - expires 2021-01-03\n",
      "Read MPS format model from file ../jim_instances/sts45.mps\n",
      "Reading time = 0.01 seconds\n",
      "obj: 330 rows, 45 columns, 990 nonzeros\n"
     ]
    }
   ],
   "source": [
    "m = read(\"../jim_instances/sts45.mps\")"
   ]
  },
  {
   "cell_type": "code",
   "execution_count": null,
   "metadata": {},
   "outputs": [],
   "source": []
  }
 ],
 "metadata": {
  "kernelspec": {
   "display_name": "Python 3",
   "language": "python",
   "name": "python3"
  },
  "language_info": {
   "codemirror_mode": {
    "name": "ipython",
    "version": 3
   },
   "file_extension": ".py",
   "mimetype": "text/x-python",
   "name": "python",
   "nbconvert_exporter": "python",
   "pygments_lexer": "ipython3",
   "version": "3.8.3"
  }
 },
 "nbformat": 4,
 "nbformat_minor": 4
}
