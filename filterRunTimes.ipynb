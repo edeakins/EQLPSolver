{
 "cells": [
  {
   "cell_type": "code",
   "execution_count": 15,
   "metadata": {},
   "outputs": [],
   "source": [
    "import pandas as pd\n",
    "import shutil\n",
    "\n",
    "HST = pd.read_csv(\"/mnt/c/Users/edeak/HiGHS_Symmetric_timings.csv\")\n",
    "HST = pd.DataFrame(HST)\n",
    "HST_list = HST.loc[:,\"Total Time\"].to_list()\n",
    "HSTI_list = HST.loc[:,\"Instance\"].to_list()"
   ]
  },
  {
   "cell_type": "code",
   "execution_count": 17,
   "metadata": {},
   "outputs": [],
   "source": [
    "oDir = \"./LPGeneration/benchmarkInstances/\"\n",
    "nDir = \"./symmteric_5/\"\n",
    "for i in range(len(HST_list)):\n",
    "    if HST_list[i] > 5:\n",
    "        stripped = HSTI_list[i][8:]\n",
    "        shutil.copyfile(oDir + stripped, nDir + stripped)"
   ]
  },
  {
   "cell_type": "code",
   "execution_count": null,
   "metadata": {},
   "outputs": [],
   "source": []
  }
 ],
 "metadata": {
  "kernelspec": {
   "display_name": "Python 3",
   "language": "python",
   "name": "python3"
  },
  "language_info": {
   "codemirror_mode": {
    "name": "ipython",
    "version": 3
   },
   "file_extension": ".py",
   "mimetype": "text/x-python",
   "name": "python",
   "nbconvert_exporter": "python",
   "pygments_lexer": "ipython3",
   "version": "3.8.3"
  }
 },
 "nbformat": 4,
 "nbformat_minor": 4
}
