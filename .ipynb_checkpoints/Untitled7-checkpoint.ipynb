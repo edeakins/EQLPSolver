{
 "cells": [
  {
   "cell_type": "code",
   "execution_count": 1,
   "metadata": {},
   "outputs": [],
   "source": [
    "import numpy as np\n",
    "from sympy import *\n",
    "np.set_printoptions(precision=3, linewidth=150, suppress=True)"
   ]
  },
  {
   "cell_type": "code",
   "execution_count": 14,
   "metadata": {},
   "outputs": [],
   "source": [
    "noLiftA = np.array([\n",
    " [ 1, 2, 1, 0, 1, 0, -1, 0, 0, 0, 0, 0, 0, 0, 0, 0, 1 ],\n",
    " [ 2, 4, 0, 2, 0, 2, 0, -2, 0, 0, 0, 0, 0, 0, 0, 0, 2 ],\n",
    " [ 1, 0, 1, 2, 1, 0, 0, 0, -1, 0, 0, 0, 0, 0, 0, 0, 1 ],\n",
    " [ 0, 2, 2, 4, 0, 2, 0, 0, 0, -2, 0, 0, 0, 0, 0, 0, 2 ],\n",
    " [ 1, 0, 1, 0, 1, 2, 0, 0, 0, 0, -1, 0, 0, 0, 0, 0, 1 ],\n",
    " [ 0, 2, 0, 2, 2, 4, 0, 0, 0, 0, 0, -2, 0, 0, 0, 0, 2 ],\n",
    " [ 1, 2, 1, 2, 1, 2, 0, 0, 0, 0, 0, 0, -1, 0, 0, 0, 2 ],\n",
    " [ -1, 0, 0, 0, 1, 0, 0, 0, 0, 0, 0, 0, 0, -1, 0, 0, 0 ],\n",
    " [ 0, 0, 0, -1, 1, 0, 0, 0, 0, 0, 0, 0, 0, 0, -1, 0, 0 ],\n",
    " [ 0, 1, 0, 0, 0, -1, 0, 0, 0, 0, 0, 0, 0, 0, 0, -1, 0 ],\n",
    " ])\n",
    "\n",
    "liftA = np.array([\n",
    " [ 1, 2, 1, 0, 1, 0, -1, 0, 0, 0, 0, 0, 0, 0, 0, 0, 1 ],\n",
    " [ 0, 0, 0, 0, 0, 0, 0, 1, 0.25, 0, 0, 1, -1.25, 0, 0, 0, 0.25 ],\n",
    " [ 0, 0, 0, 0, 0, 0, 0, 1.25, 0.875, 0, 0, 1.25, -1.875, 0, 0, 0, 0.375 ],\n",
    " [ 0, 0, 0, 0, 0, 0, 0.25, 0.5, 0.25, 0.5, 0.25, 0.5, -1.25, 0, 0, 0, 0.25 ],\n",
    " [ 1, 0, 1, 0, 1, 2, 0, 0, 0, 0, -1, 0, 0, 0, 0, 0, 1 ],\n",
    " [ 0, 2, 0, 2, 2, 4, 0, 0, 0, 0, 0, -2, 0, 0, 0, 0, 2 ],\n",
    " [ 0, 0, 1, 0, 0, 0, 0, 1, 0.5, 0, 0, 1, -1.5, 0, 0, 0, 0.5 ],\n",
    " [ -1, 0, 0, 0, 1, 0, 0, 0, 0, 0, 0, 0, 0, -1, 0, 0, 0 ],\n",
    " [ 0, 0, 0, -1, 1, 0, 0, 0, 0, 0, 0, 0, 0, 0, -1, 0, 0 ],\n",
    " [ 0, 1, 0, 0, 0, -1, 0, 0, 0, 0, 0, 0, 0, 0, 0, -1, 0 ],\n",
    " ])"
   ]
  },
  {
   "cell_type": "code",
   "execution_count": 15,
   "metadata": {},
   "outputs": [
    {
     "name": "stdout",
     "output_type": "stream",
     "text": [
      "[[ 1  2  1  0  1  0 -1  0  0  0  0  0  0  0  0  0  1]\n",
      " [ 2  4  0  2  0  2  0 -2  0  0  0  0  0  0  0  0  2]\n",
      " [ 1  0  1  2  1  0  0  0 -1  0  0  0  0  0  0  0  1]\n",
      " [ 0  2  2  4  0  2  0  0  0 -2  0  0  0  0  0  0  2]\n",
      " [ 1  0  1  0  1  2  0  0  0  0 -1  0  0  0  0  0  1]\n",
      " [ 0  2  0  2  2  4  0  0  0  0  0 -2  0  0  0  0  2]\n",
      " [ 1  2  1  2  1  2  0  0  0  0  0  0 -1  0  0  0  2]\n",
      " [-1  0  0  0  1  0  0  0  0  0  0  0  0 -1  0  0  0]\n",
      " [ 0  0  0 -1  1  0  0  0  0  0  0  0  0  0 -1  0  0]\n",
      " [ 0  1  0  0  0 -1  0  0  0  0  0  0  0  0  0 -1  0]]\n",
      "\n",
      "\n",
      "[[ 1.     2.     1.     0.     1.     0.    -1.     0.     0.     0.     0.     0.     0.     0.     0.     0.     1.   ]\n",
      " [ 0.     0.     0.     0.     0.     0.     0.     1.25   0.875  0.     0.     1.25  -1.875  0.     0.     0.     0.375]\n",
      " [ 0.     0.     0.     0.     0.     0.     0.25   0.5    0.25   0.5    0.25   0.5   -1.25   0.     0.     0.     0.25 ]\n",
      " [ 1.     0.     1.     0.     1.     2.     0.     0.     0.     0.    -1.     0.     0.     0.     0.     0.     1.   ]\n",
      " [ 0.     2.     0.     2.     2.     4.     0.     0.     0.     0.     0.    -2.     0.     0.     0.     0.     2.   ]\n",
      " [ 0.     0.     1.     0.     0.     0.     0.     1.     0.5    0.     0.     1.    -1.5    0.     0.     0.     0.5  ]\n",
      " [-1.     0.     0.     0.     1.     0.     0.     0.     0.     0.     0.     0.     0.    -1.     0.     0.     0.   ]\n",
      " [ 0.     0.     0.    -1.     1.     0.     0.     0.     0.     0.     0.     0.     0.     0.    -1.     0.     0.   ]\n",
      " [ 0.     1.     0.     0.     0.    -1.     0.     0.     0.     0.     0.     0.     0.     0.     0.    -1.     0.   ]]\n"
     ]
    }
   ],
   "source": [
    "print(noLiftA)\n",
    "print(\"\\n\")\n",
    "print(liftA)"
   ]
  },
  {
   "cell_type": "code",
   "execution_count": 16,
   "metadata": {},
   "outputs": [
    {
     "name": "stdout",
     "output_type": "stream",
     "text": [
      "16\n"
     ]
    }
   ],
   "source": [
    "noLiftBasis = [1, 1, 1, 1, 1, 1, 1, 0, 0, 1, 1, 1, 0, 0, 0, 0]\n",
    "liftBasis = [1, 1, 1, 1, 1, 1, 1, 0, 0, 1, 1, 0, 0, 1, 0, 0]\n",
    "print(len(noLiftBasis))"
   ]
  },
  {
   "cell_type": "code",
   "execution_count": 17,
   "metadata": {},
   "outputs": [
    {
     "name": "stdout",
     "output_type": "stream",
     "text": [
      "[ 1.  0.  0.  1.  0.  0. -1.  0.  0.]\n"
     ]
    }
   ],
   "source": [
    "print(liftA[:,0])"
   ]
  },
  {
   "cell_type": "code",
   "execution_count": 18,
   "metadata": {},
   "outputs": [
    {
     "ename": "ValueError",
     "evalue": "could not broadcast input array from shape (10) into shape (9)",
     "output_type": "error",
     "traceback": [
      "\u001b[0;31m---------------------------------------------------------------------------\u001b[0m",
      "\u001b[0;31mValueError\u001b[0m                                Traceback (most recent call last)",
      "\u001b[0;32m<ipython-input-18-1c48d519270a>\u001b[0m in \u001b[0;36m<module>\u001b[0;34m\u001b[0m\n\u001b[1;32m      4\u001b[0m \u001b[0;32mfor\u001b[0m \u001b[0mAidx\u001b[0m\u001b[0;34m,\u001b[0m \u001b[0mb\u001b[0m \u001b[0;32min\u001b[0m \u001b[0menumerate\u001b[0m\u001b[0;34m(\u001b[0m\u001b[0mliftBasis\u001b[0m\u001b[0;34m)\u001b[0m\u001b[0;34m:\u001b[0m\u001b[0;34m\u001b[0m\u001b[0;34m\u001b[0m\u001b[0m\n\u001b[1;32m      5\u001b[0m     \u001b[0;32mif\u001b[0m \u001b[0mb\u001b[0m\u001b[0;34m:\u001b[0m\u001b[0;34m\u001b[0m\u001b[0;34m\u001b[0m\u001b[0m\n\u001b[0;32m----> 6\u001b[0;31m         \u001b[0mbasicNoLift\u001b[0m\u001b[0;34m[\u001b[0m\u001b[0;34m:\u001b[0m\u001b[0;34m,\u001b[0m\u001b[0mBidx\u001b[0m\u001b[0;34m]\u001b[0m \u001b[0;34m=\u001b[0m \u001b[0mnoLiftA\u001b[0m\u001b[0;34m[\u001b[0m\u001b[0;34m:\u001b[0m\u001b[0;34m,\u001b[0m\u001b[0mAidx\u001b[0m\u001b[0;34m]\u001b[0m\u001b[0;34m\u001b[0m\u001b[0;34m\u001b[0m\u001b[0m\n\u001b[0m\u001b[1;32m      7\u001b[0m         \u001b[0mBidx\u001b[0m \u001b[0;34m+=\u001b[0m \u001b[0;36m1\u001b[0m\u001b[0;34m\u001b[0m\u001b[0;34m\u001b[0m\u001b[0m\n\u001b[1;32m      8\u001b[0m \u001b[0mBidx\u001b[0m \u001b[0;34m=\u001b[0m \u001b[0;36m0\u001b[0m\u001b[0;34m\u001b[0m\u001b[0;34m\u001b[0m\u001b[0m\n",
      "\u001b[0;31mValueError\u001b[0m: could not broadcast input array from shape (10) into shape (9)"
     ]
    }
   ],
   "source": [
    "basicNoLift = np.zeros(shape=(len(liftA[:,0]), len(liftA[:,0])))\n",
    "basicLift = np.zeros(shape=(len(liftA[:,0]), len(liftA[:,0])))\n",
    "Bidx = 0\n",
    "for Aidx, b in enumerate(liftBasis):\n",
    "    if b:\n",
    "        basicNoLift[:,Bidx] = noLiftA[:,Aidx]\n",
    "        Bidx += 1\n",
    "Bidx = 0\n",
    "for Aidx, b in enumerate(noLiftBasis):\n",
    "    if b:\n",
    "        basicLift[:,Bidx] = liftA[:,Aidx]\n",
    "        Bidx += 1"
   ]
  },
  {
   "cell_type": "code",
   "execution_count": 39,
   "metadata": {},
   "outputs": [
    {
     "name": "stdout",
     "output_type": "stream",
     "text": [
      "\n",
      "\n",
      "[[ 1.    2.    1.    0.    1.    0.   -1.    0.    0.    0.  ]\n",
      " [ 0.    0.    0.    0.    0.    0.    0.    0.    0.    1.  ]\n",
      " [ 0.    0.    0.    0.    0.    0.    0.    0.    0.    1.25]\n",
      " [ 0.    0.    0.    0.    0.    0.    0.25  0.5   0.25  0.5 ]\n",
      " [ 1.    0.    1.    0.    1.    2.    0.    0.   -1.    0.  ]\n",
      " [ 0.    2.    0.    2.    2.    4.    0.    0.    0.   -2.  ]\n",
      " [ 0.    0.    1.    0.    0.    0.    0.    0.    0.    1.  ]\n",
      " [-1.    0.    0.    0.    1.    0.    0.    0.    0.    0.  ]\n",
      " [ 0.    0.    0.   -1.    1.    0.    0.    0.    0.    0.  ]\n",
      " [ 0.    1.    0.    0.    0.   -1.    0.    0.    0.    0.  ]]\n",
      "[[ 1.  2.  1.  0.  1.  0. -1.  0.  0.  0.]\n",
      " [ 2.  4.  0.  2.  0.  2.  0.  0.  0.  0.]\n",
      " [ 1.  0.  1.  2.  1.  0.  0.  0.  0.  0.]\n",
      " [ 0.  2.  2.  4.  0.  2.  0. -2.  0.  0.]\n",
      " [ 1.  0.  1.  0.  1.  2.  0.  0. -1.  0.]\n",
      " [ 0.  2.  0.  2.  2.  4.  0.  0.  0. -2.]\n",
      " [ 1.  2.  1.  2.  1.  2.  0.  0.  0.  0.]\n",
      " [-1.  0.  0.  0.  1.  0.  0.  0.  0.  0.]\n",
      " [ 0.  0.  0. -1.  1.  0.  0.  0.  0.  0.]\n",
      " [ 0.  1.  0.  0.  0. -1.  0.  0.  0.  0.]]\n"
     ]
    }
   ],
   "source": [
    "BnoLiftInv = np.linalg.inv(basicNoLift)\n",
    "# print(np.matmul(BnoLiftInv, noLiftA))\n",
    "print(\"\\n\")\n",
    "print(basicLift)\n",
    "print(basicNoLift)"
   ]
  },
  {
   "cell_type": "code",
   "execution_count": 36,
   "metadata": {},
   "outputs": [
    {
     "ename": "LinAlgError",
     "evalue": "Singular matrix",
     "output_type": "error",
     "traceback": [
      "\u001b[0;31m---------------------------------------------------------------------------\u001b[0m",
      "\u001b[0;31mLinAlgError\u001b[0m                               Traceback (most recent call last)",
      "\u001b[0;32m<ipython-input-36-48812d8264c3>\u001b[0m in \u001b[0;36m<module>\u001b[0;34m\u001b[0m\n\u001b[0;32m----> 1\u001b[0;31m \u001b[0mBliftInv\u001b[0m \u001b[0;34m=\u001b[0m \u001b[0mnp\u001b[0m\u001b[0;34m.\u001b[0m\u001b[0mlinalg\u001b[0m\u001b[0;34m.\u001b[0m\u001b[0minv\u001b[0m\u001b[0;34m(\u001b[0m\u001b[0mbasicLift\u001b[0m\u001b[0;34m)\u001b[0m\u001b[0;34m\u001b[0m\u001b[0;34m\u001b[0m\u001b[0m\n\u001b[0m\u001b[1;32m      2\u001b[0m \u001b[0mprint\u001b[0m\u001b[0;34m(\u001b[0m\u001b[0mBliftInv\u001b[0m\u001b[0;34m)\u001b[0m\u001b[0;34m\u001b[0m\u001b[0;34m\u001b[0m\u001b[0m\n",
      "\u001b[0;32m<__array_function__ internals>\u001b[0m in \u001b[0;36minv\u001b[0;34m(*args, **kwargs)\u001b[0m\n",
      "\u001b[0;32m~/anaconda3/lib/python3.8/site-packages/numpy/linalg/linalg.py\u001b[0m in \u001b[0;36minv\u001b[0;34m(a)\u001b[0m\n\u001b[1;32m    545\u001b[0m     \u001b[0msignature\u001b[0m \u001b[0;34m=\u001b[0m \u001b[0;34m'D->D'\u001b[0m \u001b[0;32mif\u001b[0m \u001b[0misComplexType\u001b[0m\u001b[0;34m(\u001b[0m\u001b[0mt\u001b[0m\u001b[0;34m)\u001b[0m \u001b[0;32melse\u001b[0m \u001b[0;34m'd->d'\u001b[0m\u001b[0;34m\u001b[0m\u001b[0;34m\u001b[0m\u001b[0m\n\u001b[1;32m    546\u001b[0m     \u001b[0mextobj\u001b[0m \u001b[0;34m=\u001b[0m \u001b[0mget_linalg_error_extobj\u001b[0m\u001b[0;34m(\u001b[0m\u001b[0m_raise_linalgerror_singular\u001b[0m\u001b[0;34m)\u001b[0m\u001b[0;34m\u001b[0m\u001b[0;34m\u001b[0m\u001b[0m\n\u001b[0;32m--> 547\u001b[0;31m     \u001b[0mainv\u001b[0m \u001b[0;34m=\u001b[0m \u001b[0m_umath_linalg\u001b[0m\u001b[0;34m.\u001b[0m\u001b[0minv\u001b[0m\u001b[0;34m(\u001b[0m\u001b[0ma\u001b[0m\u001b[0;34m,\u001b[0m \u001b[0msignature\u001b[0m\u001b[0;34m=\u001b[0m\u001b[0msignature\u001b[0m\u001b[0;34m,\u001b[0m \u001b[0mextobj\u001b[0m\u001b[0;34m=\u001b[0m\u001b[0mextobj\u001b[0m\u001b[0;34m)\u001b[0m\u001b[0;34m\u001b[0m\u001b[0;34m\u001b[0m\u001b[0m\n\u001b[0m\u001b[1;32m    548\u001b[0m     \u001b[0;32mreturn\u001b[0m \u001b[0mwrap\u001b[0m\u001b[0;34m(\u001b[0m\u001b[0mainv\u001b[0m\u001b[0;34m.\u001b[0m\u001b[0mastype\u001b[0m\u001b[0;34m(\u001b[0m\u001b[0mresult_t\u001b[0m\u001b[0;34m,\u001b[0m \u001b[0mcopy\u001b[0m\u001b[0;34m=\u001b[0m\u001b[0;32mFalse\u001b[0m\u001b[0;34m)\u001b[0m\u001b[0;34m)\u001b[0m\u001b[0;34m\u001b[0m\u001b[0;34m\u001b[0m\u001b[0m\n\u001b[1;32m    549\u001b[0m \u001b[0;34m\u001b[0m\u001b[0m\n",
      "\u001b[0;32m~/anaconda3/lib/python3.8/site-packages/numpy/linalg/linalg.py\u001b[0m in \u001b[0;36m_raise_linalgerror_singular\u001b[0;34m(err, flag)\u001b[0m\n\u001b[1;32m     95\u001b[0m \u001b[0;34m\u001b[0m\u001b[0m\n\u001b[1;32m     96\u001b[0m \u001b[0;32mdef\u001b[0m \u001b[0m_raise_linalgerror_singular\u001b[0m\u001b[0;34m(\u001b[0m\u001b[0merr\u001b[0m\u001b[0;34m,\u001b[0m \u001b[0mflag\u001b[0m\u001b[0;34m)\u001b[0m\u001b[0;34m:\u001b[0m\u001b[0;34m\u001b[0m\u001b[0;34m\u001b[0m\u001b[0m\n\u001b[0;32m---> 97\u001b[0;31m     \u001b[0;32mraise\u001b[0m \u001b[0mLinAlgError\u001b[0m\u001b[0;34m(\u001b[0m\u001b[0;34m\"Singular matrix\"\u001b[0m\u001b[0;34m)\u001b[0m\u001b[0;34m\u001b[0m\u001b[0;34m\u001b[0m\u001b[0m\n\u001b[0m\u001b[1;32m     98\u001b[0m \u001b[0;34m\u001b[0m\u001b[0m\n\u001b[1;32m     99\u001b[0m \u001b[0;32mdef\u001b[0m \u001b[0m_raise_linalgerror_nonposdef\u001b[0m\u001b[0;34m(\u001b[0m\u001b[0merr\u001b[0m\u001b[0;34m,\u001b[0m \u001b[0mflag\u001b[0m\u001b[0;34m)\u001b[0m\u001b[0;34m:\u001b[0m\u001b[0;34m\u001b[0m\u001b[0;34m\u001b[0m\u001b[0m\n",
      "\u001b[0;31mLinAlgError\u001b[0m: Singular matrix"
     ]
    }
   ],
   "source": [
    "BliftInv = np.linalg.inv(basicLift)\n",
    "print(BliftInv)"
   ]
  },
  {
   "cell_type": "code",
   "execution_count": 37,
   "metadata": {},
   "outputs": [
    {
     "name": "stdout",
     "output_type": "stream",
     "text": [
      "9\n"
     ]
    }
   ],
   "source": [
    "print(np.linalg.matrix_rank(basicLift))"
   ]
  },
  {
   "cell_type": "code",
   "execution_count": 13,
   "metadata": {},
   "outputs": [
    {
     "ename": "NameError",
     "evalue": "name 'liftBasis' is not defined",
     "output_type": "error",
     "traceback": [
      "\u001b[0;31m---------------------------------------------------------------------------\u001b[0m",
      "\u001b[0;31mNameError\u001b[0m                                 Traceback (most recent call last)",
      "\u001b[0;32m<ipython-input-13-9d27a0ef9740>\u001b[0m in \u001b[0;36m<module>\u001b[0;34m\u001b[0m\n\u001b[1;32m     42\u001b[0m \u001b[0;31m# basicLift = np.zeros(shape=(len(liftA[:,0]), len(liftA[:,0])))\u001b[0m\u001b[0;34m\u001b[0m\u001b[0;34m\u001b[0m\u001b[0;34m\u001b[0m\u001b[0m\n\u001b[1;32m     43\u001b[0m \u001b[0mBidx\u001b[0m \u001b[0;34m=\u001b[0m \u001b[0;36m0\u001b[0m\u001b[0;34m\u001b[0m\u001b[0;34m\u001b[0m\u001b[0m\n\u001b[0;32m---> 44\u001b[0;31m \u001b[0;32mfor\u001b[0m \u001b[0mAidx\u001b[0m\u001b[0;34m,\u001b[0m \u001b[0mb\u001b[0m \u001b[0;32min\u001b[0m \u001b[0menumerate\u001b[0m\u001b[0;34m(\u001b[0m\u001b[0mliftBasis\u001b[0m\u001b[0;34m)\u001b[0m\u001b[0;34m:\u001b[0m\u001b[0;34m\u001b[0m\u001b[0;34m\u001b[0m\u001b[0m\n\u001b[0m\u001b[1;32m     45\u001b[0m     \u001b[0;32mif\u001b[0m \u001b[0mb\u001b[0m\u001b[0;34m:\u001b[0m\u001b[0;34m\u001b[0m\u001b[0;34m\u001b[0m\u001b[0m\n\u001b[1;32m     46\u001b[0m         \u001b[0mbasicNoLiftSub\u001b[0m\u001b[0;34m[\u001b[0m\u001b[0;34m:\u001b[0m\u001b[0;34m,\u001b[0m\u001b[0mBidx\u001b[0m\u001b[0;34m]\u001b[0m \u001b[0;34m=\u001b[0m \u001b[0mnoLiftASub\u001b[0m\u001b[0;34m[\u001b[0m\u001b[0;34m:\u001b[0m\u001b[0;34m,\u001b[0m\u001b[0mAidx\u001b[0m\u001b[0;34m]\u001b[0m\u001b[0;34m\u001b[0m\u001b[0;34m\u001b[0m\u001b[0m\n",
      "\u001b[0;31mNameError\u001b[0m: name 'liftBasis' is not defined"
     ]
    }
   ],
   "source": [
    "noLiftA = np.array([\n",
    " [ 1, 2, 1, 0, 1, 0, -1, 0, 0, 0, 0, 0, 0, 0, 0, 0, 1 ],\n",
    " [ 2, 4, 0, 2, 0, 2, 0, -2, 0, 0, 0, 0, 0, 0, 0, 0, 2 ],\n",
    " [ 1, 0, 1, 2, 1, 0, 0, 0, -1, 0, 0, 0, 0, 0, 0, 0, 1 ],\n",
    " [ 0, 2, 2, 4, 0, 2, 0, 0, 0, -2, 0, 0, 0, 0, 0, 0, 2 ],\n",
    " [ 1, 0, 1, 0, 1, 2, 0, 0, 0, 0, -1, 0, 0, 0, 0, 0, 1 ],\n",
    " [ 0, 2, 0, 2, 2, 4, 0, 0, 0, 0, 0, -2, 0, 0, 0, 0, 2 ],\n",
    " [ 1, 2, 1, 2, 1, 2, 0, 0, 0, 0, 0, 0, -1, 0, 0, 0, 2 ],\n",
    " [ -1, 0, 0, 0, 1, 0, 0, 0, 0, 0, 0, 0, 0, -1, 0, 0, 0 ],\n",
    " [ 0, 0, 0, -1, 1, 0, 0, 0, 0, 0, 0, 0, 0, 0, -1, 0, 0 ],\n",
    " [ 0, 1, 0, 0, 0, -1, 0, 0, 0, 0, 0, 0, 0, 0, 0, -1, 0 ],\n",
    " ])\n",
    "\n",
    "liftA = np.array([\n",
    " [ 1, 2, 1, 0, 1, 0, -1, 0, 0, 0, 0, 0, 0, 0, 0, 0, 1 ],\n",
    " [ 0, 0, 0, 0, 0, 0, 0, 1, 0.25, 0, 0, 1, -1.25, 0, 0, 0, 0.25 ],\n",
    " [ 0, 0, 0, 0, 0, 0, 0, 1.25, 0.875, 0, 0, 1.25, -1.875, 0, 0, 0, 0.375 ],\n",
    " [ 0, 0, 0, 0, 0, 0, 0.25, 0.5, 0.25, 0.5, 0.25, 0.5, -1.25, 0, 0, 0, 0.25 ],\n",
    " [ 1, 0, 1, 0, 1, 2, 0, 0, 0, 0, -1, 0, 0, 0, 0, 0, 1 ],\n",
    " [ 0, 2, 0, 2, 2, 4, 0, 0, 0, 0, 0, -2, 0, 0, 0, 0, 2 ],\n",
    " [ 0, 0, 1, 0, 0, 0, 0, 1, 0.5, 0, 0, 1, -1.5, 0, 0, 0, 0.5 ],\n",
    " [ -1, 0, 0, 0, 1, 0, 0, 0, 0, 0, 0, 0, 0, -1, 0, 0, 0 ],\n",
    " [ 0, 0, 0, -1, 1, 0, 0, 0, 0, 0, 0, 0, 0, 0, -1, 0, 0 ],\n",
    " [ 0, 1, 0, 0, 0, -1, 0, 0, 0, 0, 0, 0, 0, 0, 0, -1, 0 ],\n",
    " ])\n",
    "\n",
    "noLiftASub = np.array([\n",
    " [ 1, 2, 1, 0, 1, 0, -1, 0, 0, 0, 0, 0, 0, 0, 0, 0, 1 ],\n",
    " [ 0, 0, 0, 0, 0, 0, 0, 1, 0.25, 0, 0, 1, -1.25, 0, 0, 0, 0.25 ],\n",
    " [ 0, 0, 0, 0, 0, 0, 0, 1.25, 0.875, 0, 0, 1.25, -1.875, 0, 0, 0, 0.375 ],\n",
    " [ 0, 0, 0, 0, 0, 0, 0.25, 0.5, 0.25, 0.5, 0.25, 0.5, -1.25, 0, 0, 0, 0.25 ],\n",
    " [ 1, 0, 1, 0, 1, 2, 0, 0, 0, 0, -1, 0, 0, 0, 0, 0, 1 ],\n",
    " [ 0, 2, 0, 2, 2, 4, 0, 0, 0, 0, 0, -2, 0, 0, 0, 0, 2 ],\n",
    " [ 0, 0, 1, 0, 0, 0, 0, 1, 0.5, 0, 0, 1, -1.5, 0, 0, 0, 0.5 ],\n",
    " [ -1, 0, 0, 0, 1, 0, 0, 0, 0, 0, 0, 0, 0, -1, 0, 0, 0 ],\n",
    " [ 0, 0, 0, -1, 1, 0, 0, 0, 0, 0, 0, 0, 0, 0, -1, 0, 0 ],\n",
    " [ 0, 1, 0, 0, 0, -1, 0, 0, 0, 0, 0, 0, 0, 0, 0, -1, 0 ],\n",
    " ])\n",
    "\n",
    "noLiftA = .5 * noLiftA\n",
    "basicNoLiftSub = np.zeros(shape=(len(liftA[:,0]), len(liftA[:,0])))\n",
    "# basicLift = np.zeros(shape=(len(liftA[:,0]), len(liftA[:,0])))\n",
    "Bidx = 0\n",
    "for Aidx, b in enumerate(liftBasis):\n",
    "    if b:\n",
    "        basicNoLiftSub[:,Bidx] = noLiftASub[:,Aidx]\n",
    "        Bidx += 1\n",
    "\n",
    "BnoLiftInv = np.linalg.inv(basicNoLift)    \n",
    "print(BnoLiftInv)\n",
    "print(\"\\n\")\n",
    "# BnoLiftInvSub = np.linalg.inv(basicNoLiftSub)\n",
    "# print(BnoLiftInvSub)\n",
    "print(\"\\n\")\n",
    "print(np.matmul(BnoLiftInv, noLiftA))\n",
    "print(\"\\n\")\n",
    "# print(np.matmul(BnoLiftInvSub, noLiftASub))"
   ]
  },
  {
   "cell_type": "code",
   "execution_count": 12,
   "metadata": {},
   "outputs": [
    {
     "name": "stdout",
     "output_type": "stream",
     "text": [
      "Matrix : Matrix([[1, 2, 1, 0, 1, 0, -1, 0, 0, 0, 0, 0, 0, 0, 0, 0, 1], [2, 4, 0, 2, 0, 2, 0, -2, 0, 0, 0, 0, 0, 0, 0, 0, 2], [1, 0, 1, 2, 1, 0, 0, 0, -1, 0, 0, 0, 0, 0, 0, 0, 1], [0, 2, 2, 4, 0, 2, 0, 0, 0, -2, 0, 0, 0, 0, 0, 0, 2], [1, 0, 1, 0, 1, 2, 0, 0, 0, 0, -1, 0, 0, 0, 0, 0, 1], [0, 2, 0, 2, 2, 4, 0, 0, 0, 0, 0, -2, 0, 0, 0, 0, 2], [1, 2, 1, 2, 1, 2, 0, 0, 0, 0, 0, 0, -1, 0, 0, 0, 2], [-1, 0, 0, 0, 1, 0, 0, 0, 0, 0, 0, 0, 0, -1, 0, 0, 0], [0, 0, 0, -1, 1, 0, 0, 0, 0, 0, 0, 0, 0, 0, -1, 0, 0], [0, 1, 0, 0, 0, -1, 0, 0, 0, 0, 0, 0, 0, 0, 0, -1, 0]]) \n",
      "The Row echelon form of matrix M and the pivot columns : (Matrix([\n",
      "[1, 0, 0, 0, 0, 0, 0, 0, 0, 0, 3/2,  1, -3/2,  1, -2,  2, 1/2],\n",
      "[0, 1, 0, 0, 0, 0, 0, 0, 0, 0,  -1, -1,    1,  0,  1, -2,   0],\n",
      "[0, 0, 1, 0, 0, 0, 0, 0, 0, 0,  -2,  0,    1, -1,  2, -2,   0],\n",
      "[0, 0, 0, 1, 0, 0, 0, 0, 0, 0, 3/2,  1, -3/2,  0, -1,  2, 1/2],\n",
      "[0, 0, 0, 0, 1, 0, 0, 0, 0, 0, 3/2,  1, -3/2,  0, -2,  2, 1/2],\n",
      "[0, 0, 0, 0, 0, 1, 0, 0, 0, 0,  -1, -1,    1,  0,  1, -1,   0],\n",
      "[0, 0, 0, 0, 0, 0, 1, 0, 0, 0,  -1,  0,    0,  0,  0, -2,   0],\n",
      "[0, 0, 0, 0, 0, 0, 0, 1, 0, 0,   0, -1,    0,  1,  0, -1,   0],\n",
      "[0, 0, 0, 0, 0, 0, 0, 0, 1, 0,   4,  4,   -5,  0, -4,  6,   1],\n",
      "[0, 0, 0, 0, 0, 0, 0, 0, 0, 1,  -1,  0,    0, -1,  2, -1,   0]]), (0, 1, 2, 3, 4, 5, 6, 7, 8, 9))\n"
     ]
    }
   ],
   "source": [
    "M = Matrix(noLiftA)\n",
    "print(\"Matrix : {} \".format(M))\n",
    "   \n",
    "# Use sympy.rref() method \n",
    "M_rref = M.rref()  \n",
    "      \n",
    "print(\"The Row echelon form of matrix M and the pivot columns : {}\".format(M_rref)) "
   ]
  },
  {
   "cell_type": "code",
   "execution_count": 71,
   "metadata": {},
   "outputs": [
    {
     "name": "stdout",
     "output_type": "stream",
     "text": [
      "8\n"
     ]
    }
   ],
   "source": [
    "print(np.linalg.matrix_rank(basicNoLiftSub))"
   ]
  },
  {
   "cell_type": "code",
   "execution_count": null,
   "metadata": {},
   "outputs": [],
   "source": [
    "# Iter 1\n",
    "# labels = {6, 5, 4, 0, 2, 7, 8, 1, 3, 10, 16, 17, 11, 13, 14, 9, 15, 12, 18}\n",
    "# cells = {0, 1, 1, 2, 0, 0, 0, 1, 1, 3, 4, 4, 5, 3, 3, 3, 4, 4, 6}\n",
    "\n",
    "# Iter 2 \n",
    "# labels ={0, 4, 5, 6, 8, 7, 2, 1, 3, 10, 11, 17, 16, 13, 14, 9, 15, 12, 18}\n",
    "# cells = {0, 1, 1, 2, 3, 3, 4, 5, 5, 6, 7, 7, 8, 9, 9, 10, 11, 11, 12}"
   ]
  },
  {
   "cell_type": "code",
   "execution_count": 11,
   "metadata": {},
   "outputs": [
    {
     "name": "stdout",
     "output_type": "stream",
     "text": [
      "[[ 1.     2.     1.     0.     1.     0.    -1.     0.     0.     0.     0.     0.     0.     0.     0.     0.     1.   ]\n",
      " [ 0.     0.     0.     0.     0.     0.     0.     1.     0.25   0.     0.     1.    -1.25   0.     0.     0.     0.25 ]\n",
      " [ 0.     0.     0.     0.     0.     0.     0.     1.25   0.875  0.     0.     1.25  -1.875  0.     0.     0.     0.375]\n",
      " [ 0.     0.     0.     0.     0.     0.     0.25   0.5    0.25   0.5    0.25   0.5   -1.25   0.     0.     0.     0.25 ]\n",
      " [ 1.     0.     1.     0.     1.     2.     0.     0.     0.     0.    -1.     0.     0.     0.     0.     0.     1.   ]\n",
      " [ 0.     2.     0.     2.     2.     4.     0.     0.     0.     0.     0.    -2.     0.     0.     0.     0.     2.   ]\n",
      " [ 0.     0.     1.     0.     0.     0.     0.     1.     0.5    0.     0.     1.    -1.5    0.     0.     0.     0.5  ]\n",
      " [-1.     0.     0.     0.     1.     0.     0.     0.     0.     0.     0.     0.     0.    -1.     0.     0.     0.   ]\n",
      " [ 0.     0.     0.    -1.     1.     0.     0.     0.     0.     0.     0.     0.     0.     0.    -1.     0.     0.   ]\n",
      " [ 0.     1.     0.     0.     0.    -1.     0.     0.     0.     0.     0.     0.     0.     0.     0.    -1.     0.   ]]\n"
     ]
    }
   ],
   "source": [
    "A = np.array([\n",
    " [ 1, 2, 1, 0, 1, 0, -1, 0, 0, 0, 0, 0, 0, 0, 0, 0, 1 ],\n",
    " [ 0, 0, 0, 0, 0, 0, 0, 1, 0.25, 0, 0, 1, -1.25, 0, 0, 0, 0.25 ],\n",
    " [ 0, 0, 0, 0, 0, 0, 0, 1.25, 0.875, 0, 0, 1.25, -1.875, 0, 0, 0, 0.375 ],\n",
    " [ 0, 0, 0, 0, 0, 0, 0.25, 0.5, 0.25, 0.5, 0.25, 0.5, -1.25, 0, 0, 0, 0.25 ],\n",
    " [ 1, 0, 1, 0, 1, 2, 0, 0, 0, 0, -1, 0, 0, 0, 0, 0, 1 ],\n",
    " [ 0, 2, 0, 2, 2, 4, 0, 0, 0, 0, 0, -2, 0, 0, 0, 0, 2 ],\n",
    " [ 0, 0, 1, 0, 0, 0, 0, 1, 0.5, 0, 0, 1, -1.5, 0, 0, 0, 0.5 ],\n",
    " [ -1, 0, 0, 0, 1, 0, 0, 0, 0, 0, 0, 0, 0, -1, 0, 0, 0 ],\n",
    " [ 0, 0, 0, -1, 1, 0, 0, 0, 0, 0, 0, 0, 0, 0, -1, 0, 0 ],\n",
    " [ 0, 1, 0, 0, 0, -1, 0, 0, 0, 0, 0, 0, 0, 0, 0, -1, 0 ],\n",
    " ])\n",
    "print(A)"
   ]
  },
  {
   "cell_type": "code",
   "execution_count": null,
   "metadata": {},
   "outputs": [],
   "source": []
  }
 ],
 "metadata": {
  "kernelspec": {
   "display_name": "Python 3",
   "language": "python",
   "name": "python3"
  },
  "language_info": {
   "codemirror_mode": {
    "name": "ipython",
    "version": 3
   },
   "file_extension": ".py",
   "mimetype": "text/x-python",
   "name": "python",
   "nbconvert_exporter": "python",
   "pygments_lexer": "ipython3",
   "version": "3.8.3"
  }
 },
 "nbformat": 4,
 "nbformat_minor": 4
}
