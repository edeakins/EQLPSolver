{
 "cells": [
  {
   "cell_type": "code",
   "execution_count": 11,
   "metadata": {},
   "outputs": [],
   "source": [
    "import numpy as np\n",
    "from sympy import *\n",
    "np.set_printoptions(precision=3, linewidth=150, suppress=True)"
   ]
  },
  {
   "cell_type": "code",
   "execution_count": 26,
   "metadata": {},
   "outputs": [],
   "source": [
    "A = np.array([\n",
    " [ 1, 1, 1, -1, 0, 1 ],\n",
    " [ 1, -1, 0, 0, -1, 0 ],\n",
    " ])\n",
    "Alift = np.array([\n",
    " [ 0.5, 0.5, 0.5, -0.5, 0, 0 ],\n",
    " [ 1, -1, 0, 0, -1, 0 ],\n",
    " ])\n",
    "\n",
    "An = np.array([\n",
    " [ 1, -1, 0 ],\n",
    " [ 0, 0, -1 ],\n",
    " ])\n",
    "\n",
    "Aliftn = np.array([\n",
    " [ 0.5, -0.5, 0 ],\n",
    " [ 0, 0, -1 ],\n",
    " ])\n",
    "\n",
    "Blift = np.array([[.5, .5],[1, -1]])\n",
    "B = np.array([[1, 1],[1, -1]])"
   ]
  },
  {
   "cell_type": "code",
   "execution_count": 27,
   "metadata": {},
   "outputs": [
    {
     "name": "stdout",
     "output_type": "stream",
     "text": [
      "[[ 0.5  0.5]\n",
      " [ 0.5 -0.5]]\n",
      "[[ 1.   0.5]\n",
      " [ 1.  -0.5]]\n"
     ]
    }
   ],
   "source": [
    "Bliftinv = np.linalg.inv(Blift)\n",
    "Binv = np.linalg.inv(B)\n",
    "print(Binv)\n",
    "print(Bliftinv)"
   ]
  },
  {
   "cell_type": "code",
   "execution_count": 31,
   "metadata": {},
   "outputs": [],
   "source": [
    "rhs1 = np.array([[1],[0]])\n",
    "rhs2 = np.array([[0],[0]])\n",
    "xn = np.array([[1], [0], [0]])"
   ]
  },
  {
   "cell_type": "code",
   "execution_count": 29,
   "metadata": {},
   "outputs": [
    {
     "name": "stdout",
     "output_type": "stream",
     "text": [
      "[[ 1.   0.   0.5 -0.5 -0.5  0.5]\n",
      " [ 0.   1.   0.5 -0.5  0.5  0.5]]\n",
      "[[ 1.   0.   0.5 -0.5 -0.5  0. ]\n",
      " [ 0.   1.   0.5 -0.5  0.5  0. ]]\n"
     ]
    }
   ],
   "source": [
    "print(np.matmul(Binv, A))\n",
    "print(np.matmul(Bliftinv, Alift))"
   ]
  },
  {
   "cell_type": "code",
   "execution_count": 33,
   "metadata": {},
   "outputs": [
    {
     "name": "stdout",
     "output_type": "stream",
     "text": [
      "[[ 0.5 -0.5 -0.5]\n",
      " [ 0.5 -0.5  0.5]]\n",
      "[[0.5]\n",
      " [0.5]]\n",
      "[[0.]\n",
      " [0.]]\n"
     ]
    }
   ],
   "source": [
    "BinvN = np.matmul(Binv, An)\n",
    "print(BinvN)\n",
    "non = np.matmul(BinvN, xn)\n",
    "print(non)\n",
    "xb = np.matmul(Binv, rhs1) - non\n",
    "print(xb)"
   ]
  },
  {
   "cell_type": "code",
   "execution_count": null,
   "metadata": {},
   "outputs": [],
   "source": []
  }
 ],
 "metadata": {
  "kernelspec": {
   "display_name": "Python 3",
   "language": "python",
   "name": "python3"
  },
  "language_info": {
   "codemirror_mode": {
    "name": "ipython",
    "version": 3
   },
   "file_extension": ".py",
   "mimetype": "text/x-python",
   "name": "python",
   "nbconvert_exporter": "python",
   "pygments_lexer": "ipython3",
   "version": "3.8.3"
  }
 },
 "nbformat": 4,
 "nbformat_minor": 4
}
