{
 "cells": [
  {
   "cell_type": "code",
   "execution_count": 6,
   "metadata": {},
   "outputs": [],
   "source": [
    "import numpy as np"
   ]
  },
  {
   "cell_type": "code",
   "execution_count": null,
   "metadata": {
    "collapsed": true
   },
   "outputs": [],
   "source": [
    "noLiftA = np.array([\n",
    " [ 1, 2, 1, 0, 1, 0, -1, 0, 0, 0, 0, 0, 0, 0, 0, 0, 1 ],\n",
    " [ 2, 4, 0, 2, 0, 2, 0, -2, 0, 0, 0, 0, 0, 0, 0, 0, 2 ],\n",
    " [ 1, 0, 1, 2, 1, 0, 0, 0, -1, 0, 0, 0, 0, 0, 0, 0, 1 ],\n",
    " [ 0, 2, 2, 4, 0, 2, 0, 0, 0, -2, 0, 0, 0, 0, 0, 0, 2 ],\n",
    " [ 1, 0, 1, 0, 1, 2, 0, 0, 0, 0, -1, 0, 0, 0, 0, 0, 1 ],\n",
    " [ 0, 2, 0, 2, 2, 4, 0, 0, 0, 0, 0, -2, 0, 0, 0, 0, 2 ],\n",
    " [ 1, 2, 1, 2, 1, 2, 0, 0, 0, 0, 0, 0, -1, 0, 0, 0, 2 ],\n",
    " [ -1, 0, 0, 0, 1, 0, 0, 0, 0, 0, 0, 0, 0, -1, 0, 0, 0 ],\n",
    " [ 0, 0, 0, -1, 1, 0, 0, 0, 0, 0, 0, 0, 0, 0, -1, 0, 0 ],\n",
    " [ 0, 1, 0, 0, 0, -1, 0, 0, 0, 0, 0, 0, 0, 0, 0, -1, 0 ],\n",
    " ])\n",
    "\n",
    "liftA = np.array([\n",
    " [ 1, 2, 1, 0, 1, 0, -1, 0, 0, 0, 0, 0, 0, 0, 0, 0, 1 ],\n",
    " [ 0, 0, 0, 0, 0, 0, 0, 1, 0.25, 0, 0, 1, -1.25, 0, 0, 0, 0.25 ],\n",
    " [ 0, 0, 0, 0, 0, 0, 0, 1.25, 0.875, 0, 0, 1.25, -1.875, 0, 0, 0, 0.375 ],\n",
    " [ 0, 0, 0, 0, 0, 0, 0.25, 0.5, 0.25, 0.5, 0.25, 0.5, -1.25, 0, 0, 0, 0.25 ],\n",
    " [ 1, 0, 1, 0, 1, 2, 0, 0, 0, 0, -1, 0, 0, 0, 0, 0, 1 ],\n",
    " [ 0, 2, 0, 2, 2, 4, 0, 0, 0, 0, 0, -2, 0, 0, 0, 0, 2 ],\n",
    " [ 0, 0, 1, 0, 0, 0, 0, 1, 0.5, 0, 0, 1, -1.5, 0, 0, 0, 0.5 ],\n",
    " [ -1, 0, 0, 0, 1, 0, 0, 0, 0, 0, 0, 0, 0, -1, 0, 0, 0 ],\n",
    " [ 0, 0, 0, -1, 1, 0, 0, 0, 0, 0, 0, 0, 0, 0, -1, 0, 0 ],\n",
    " [ 0, 1, 0, 0, 0, -1, 0, 0, 0, 0, 0, 0, 0, 0, 0, -1, 0 ],\n",
    " ])"
   ]
  },
  {
   "cell_type": "code",
   "execution_count": null,
   "metadata": {},
   "outputs": [],
   "source": []
  },
  {
   "cell_type": "code",
   "execution_count": 5,
   "metadata": {},
   "outputs": [
    {
     "name": "stdout",
     "output_type": "stream",
     "text": [
      "16\n"
     ]
    }
   ],
   "source": [
    "noLiftBasis = [1, 1, 1, 1, 1, 1, 1, 0, 0, 1, 1, 1, 0, 0, 0, 0]\n",
    "liftBasis = [1, 1, 1, 1, 1, 1, 1, 0, 0, 1, 1, 1, 0, 0, 0, 0]\n",
    "print(len(noLiftBasis))"
   ]
  },
  {
   "cell_type": "code",
   "execution_count": null,
   "metadata": {},
   "outputs": [],
   "source": []
  }
 ],
 "metadata": {
  "kernelspec": {
   "display_name": "Python 3",
   "language": "python",
   "name": "python3"
  },
  "language_info": {
   "codemirror_mode": {
    "name": "ipython",
    "version": 3
   },
   "file_extension": ".py",
   "mimetype": "text/x-python",
   "name": "python",
   "nbconvert_exporter": "python",
   "pygments_lexer": "ipython3",
   "version": "3.8.3"
  }
 },
 "nbformat": 4,
 "nbformat_minor": 4
}
