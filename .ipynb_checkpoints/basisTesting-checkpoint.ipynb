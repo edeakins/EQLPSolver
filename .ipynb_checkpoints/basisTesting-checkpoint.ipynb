{
 "cells": [
  {
   "cell_type": "code",
   "execution_count": 147,
   "metadata": {},
   "outputs": [],
   "source": [
    "from gurobipy import *"
   ]
  },
  {
   "cell_type": "code",
   "execution_count": 148,
   "metadata": {},
   "outputs": [
    {
     "name": "stdout",
     "output_type": "stream",
     "text": [
      "Read LP format model from file test.lp\n",
      "Reading time = 0.00 seconds\n",
      ": 36 rows, 36 columns, 182 nonzeros\n"
     ]
    }
   ],
   "source": [
    "m = read(\"test.lp\")"
   ]
  },
  {
   "cell_type": "code",
   "execution_count": 149,
   "metadata": {},
   "outputs": [
    {
     "name": "stdout",
     "output_type": "stream",
     "text": [
      "Changed value of parameter Method to 0\n",
      "   Prev: -1  Min: -1  Max: 5  Default: -1\n",
      "Optimize a model with 36 rows, 36 columns and 182 nonzeros\n",
      "Coefficient statistics:\n",
      "  Matrix range     [1e+00, 6e+00]\n",
      "  Objective range  [1e+00, 1e+00]\n",
      "  Bounds range     [1e+00, 1e+00]\n",
      "  RHS range        [1e+00, 1e+00]\n",
      "Presolve removed 9 rows and 8 columns\n",
      "Presolve time: 0.01s\n",
      "Presolved: 27 rows, 28 columns, 153 nonzeros\n",
      "\n",
      "Iteration    Objective       Primal Inf.    Dual Inf.      Time\n",
      "       0    1.4755000e-01   1.551576e+00   1.738332e+07      0s\n",
      "       7    1.6666667e-01   0.000000e+00   0.000000e+00      0s\n",
      "\n",
      "Solved in 7 iterations and 0.02 seconds\n",
      "Optimal objective  1.666666667e-01\n",
      "0 0.1 0\n",
      "1 0.2 0\n",
      "2 0.2 0\n",
      "3 0.13333333333333333 0\n",
      "4 0.033333333333333354 0\n",
      "5 0.10000000000000002 0\n",
      "6 0.1 0\n",
      "7 0.13333333333333333 0\n",
      "8 0.0666666666666667 0\n",
      "9 0.16666666666666666 0\n",
      "10 0.0 -1\n",
      "11 0.16666666666666666 0\n",
      "12 0.2 0\n",
      "13 0.13333333333333333 0\n",
      "14 0.06666666666666668 0\n",
      "15 0.16666666666666666 0\n",
      "16 0.1999999999999999 0\n",
      "17 0.19999999999999993 0\n",
      "18 0.033333333333333354 0\n",
      "19 0.13333333333333333 0\n",
      "20 0.1 0\n",
      "21 0.16666666666666666 0\n",
      "22 0.0 -1\n",
      "23 0.0 -1\n",
      "24 0.0 -1\n",
      "25 0.06666666666666668 0\n",
      "26 0.033333333333333354 0\n",
      "27 0.06666666666666668 0\n",
      "28 0.033333333333333354 0\n",
      "29 0.0333333333333333 0\n",
      "30 0.13333333333333333 0\n",
      "31 0.1 0\n",
      "32 0.0666666666666667 0\n",
      "33 0.16666666666666666 0\n",
      "34 0.0 -1\n",
      "35 0.16666666666666655 0\n"
     ]
    },
    {
     "ename": "IndexError",
     "evalue": "list index out of range",
     "output_type": "error",
     "traceback": [
      "\u001b[0;31m---------------------------------------------------------------------------\u001b[0m",
      "\u001b[0;31mIndexError\u001b[0m                                Traceback (most recent call last)",
      "\u001b[0;32m<ipython-input-149-815b00487339>\u001b[0m in \u001b[0;36m<module>\u001b[0;34m\u001b[0m\n\u001b[1;32m     33\u001b[0m \u001b[0;31m#         continue\u001b[0m\u001b[0;34m\u001b[0m\u001b[0;34m\u001b[0m\u001b[0;34m\u001b[0m\u001b[0m\n\u001b[1;32m     34\u001b[0m     \u001b[0mprint\u001b[0m\u001b[0;34m(\u001b[0m\u001b[0mi\u001b[0m\u001b[0;34m,\u001b[0m \u001b[0mx\u001b[0m\u001b[0;34m[\u001b[0m\u001b[0mi\u001b[0m\u001b[0;34m]\u001b[0m\u001b[0;34m.\u001b[0m\u001b[0mx\u001b[0m\u001b[0;34m,\u001b[0m \u001b[0mx\u001b[0m\u001b[0;34m[\u001b[0m\u001b[0mi\u001b[0m\u001b[0;34m]\u001b[0m\u001b[0;34m.\u001b[0m\u001b[0mvbasis\u001b[0m\u001b[0;34m)\u001b[0m\u001b[0;31m#x[i].varName)\u001b[0m\u001b[0;34m\u001b[0m\u001b[0;34m\u001b[0m\u001b[0m\n\u001b[0;32m---> 35\u001b[0;31m     \u001b[0mobj\u001b[0m \u001b[0;34m+=\u001b[0m \u001b[0mx\u001b[0m\u001b[0;34m[\u001b[0m\u001b[0mi\u001b[0m\u001b[0;34m]\u001b[0m\u001b[0;34m.\u001b[0m\u001b[0mx\u001b[0m \u001b[0;34m*\u001b[0m \u001b[0mobjcoeff\u001b[0m\u001b[0;34m[\u001b[0m\u001b[0mi\u001b[0m\u001b[0;34m]\u001b[0m\u001b[0;34m\u001b[0m\u001b[0;34m\u001b[0m\u001b[0m\n\u001b[0m\u001b[1;32m     36\u001b[0m \u001b[0;32mfor\u001b[0m \u001b[0mi\u001b[0m \u001b[0;32min\u001b[0m \u001b[0mrange\u001b[0m\u001b[0;34m(\u001b[0m\u001b[0mlen\u001b[0m\u001b[0;34m(\u001b[0m\u001b[0mc\u001b[0m\u001b[0;34m)\u001b[0m\u001b[0;34m)\u001b[0m\u001b[0;34m:\u001b[0m\u001b[0;34m\u001b[0m\u001b[0;34m\u001b[0m\u001b[0m\n\u001b[1;32m     37\u001b[0m \u001b[0;31m#     if i == 11 or i == 34:\u001b[0m\u001b[0;34m\u001b[0m\u001b[0;34m\u001b[0m\u001b[0;34m\u001b[0m\u001b[0m\n",
      "\u001b[0;31mIndexError\u001b[0m: list index out of range"
     ]
    }
   ],
   "source": [
    "x = m.getVars()\n",
    "c = m.getConstrs()\n",
    "objcoeff = [20.0, 1.0, 1.0, 15.0, 6.0, 40.0, 20.0, 15.0, 30.0, 6.0, 2.0, 6.0, 1.0, 15.0, 15.0, \n",
    "            6.0, 1.0, 2.0, 6.0, 15.0, 20.0, 12.0, 1.0, 1.0, 1.0, 15.0, 6.0, 15.0, 6.0, 12.0, \n",
    "            30.0, 20.0, 15.0, 6.0, 1.0]\n",
    "# m.remove(x[10])\n",
    "# m.remove(x[34])\n",
    "# m.remove(c[11])\n",
    "# m.remove(c[34])\n",
    "# m.write(\"test_reduced.lp\")\n",
    "# for i in range(len(x)):\n",
    "#     if i == 10 or i == 34:\n",
    "#         continue\n",
    "#     else:\n",
    "#         x[i].vbasis = 0\n",
    "#     objcoeff.append(x[i].obj)\n",
    "# for i in range(len(c)):\n",
    "#     if i == 11:\n",
    "#         continue\n",
    "#     else:\n",
    "#         c[i].cbasis = -1\n",
    "# x[10].vbasis = 0\n",
    "# # x[17].vbasis = -1\n",
    "# x[34].vbasis = -1\n",
    "# c[11].cbasis = 0\n",
    "# c[32].cbasis = 0\n",
    "# c[34].cbasis = 0\n",
    "m.Params.Method = 0\n",
    "m.optimize()\n",
    "obj = 0\n",
    "for i in range(len(x)):\n",
    "#     if i == 10 or i == 34:\n",
    "#         continue\n",
    "    print(i, x[i].x, x[i].vbasis)#x[i].varName)\n",
    "#     obj += x[i].x * objcoeff[i]\n",
    "for i in range(len(c)):\n",
    "#     if i == 11 or i == 34:\n",
    "#         continue\n",
    "    print(i, c[i].slack, c[i].cbasis, c[i].constrName, c[i].pi)\n",
    "print(obj)\n",
    "m.write(\"test_solved.lp\")"
   ]
  },
  {
   "cell_type": "code",
   "execution_count": 130,
   "metadata": {},
   "outputs": [
    {
     "name": "stdout",
     "output_type": "stream",
     "text": [
      "Read MPS format model from file ./DHiGHS/DevBuild/bin/write.mps\n",
      "Reading time = 0.00 seconds\n",
      ": 16 rows, 16 columns, 52 nonzeros\n"
     ]
    }
   ],
   "source": [
    "m = read('./DHiGHS/DevBuild/bin/write.mps')\n",
    "m.write('withobjiter2.lp')"
   ]
  },
  {
   "cell_type": "code",
   "execution_count": 120,
   "metadata": {},
   "outputs": [
    {
     "name": "stdout",
     "output_type": "stream",
     "text": [
      "Read LP format model from file withobjiter2.lp\n",
      "Reading time = 0.00 seconds\n",
      ": 13 rows, 13 columns, 40 nonzeros\n",
      "Optimize a model with 13 rows, 13 columns and 40 nonzeros\n",
      "Coefficient statistics:\n",
      "  Matrix range     [1e+00, 7e+00]\n",
      "  Objective range  [1e+00, 1e+00]\n",
      "  Bounds range     [1e+00, 1e+00]\n",
      "  RHS range        [1e+00, 1e+00]\n",
      "Presolve removed 9 rows and 8 columns\n",
      "Presolve time: 0.01s\n",
      "Presolved: 4 rows, 5 columns, 16 nonzeros\n",
      "\n",
      "Iteration    Objective       Primal Inf.    Dual Inf.      Time\n",
      "       0    9.1620000e-01   1.415131e-01   0.000000e+00      0s\n",
      "       2    1.1428571e-01   0.000000e+00   0.000000e+00      0s\n",
      "\n",
      "Solved in 2 iterations and 0.02 seconds\n",
      "Optimal objective  1.142857143e-01\n",
      "0.11428571428571355\n",
      "0.08571428571428572\n",
      "0.09523809523809525\n",
      "0.14285714285714285\n",
      "0.19999999999999926\n",
      "0.10476190476190479\n",
      "0.057142857142857315\n",
      "0.19999999999999973\n",
      "0.10476190476190471\n",
      "0.11428571428571424\n",
      "0.08571428571428572\n",
      "0.14285714285714285\n",
      "0.0\n"
     ]
    }
   ],
   "source": [
    "m = read('withobjiter2.lp')\n",
    "m.optimize()\n",
    "x = m.getVars()\n",
    "c = m.getConstrs()\n",
    "for i in range(len(x)):\n",
    "    print(x[i].x)"
   ]
  },
  {
   "cell_type": "code",
   "execution_count": 135,
   "metadata": {},
   "outputs": [
    {
     "name": "stdout",
     "output_type": "stream",
     "text": [
      "Read MPS format model from file ./DHiGHS/DevBuild/bin/write.mps\n",
      "Reading time = 0.01 seconds\n",
      ": 16 rows, 16 columns, 52 nonzeros\n",
      "Optimize a model with 16 rows, 16 columns and 52 nonzeros\n",
      "Coefficient statistics:\n",
      "  Matrix range     [1e+00, 7e+00]\n",
      "  Objective range  [1e+00, 1e+02]\n",
      "  Bounds range     [1e+00, 1e+00]\n",
      "  RHS range        [1e+00, 1e+00]\n",
      "Iteration    Objective       Primal Inf.    Dual Inf.      Time\n",
      "       0    3.8400000e+01   0.000000e+00   0.000000e+00      0s\n",
      "\n",
      "Solved in 0 iterations and 0.05 seconds\n",
      "Optimal objective  3.840000000e+01\n",
      "C0 0.08571428571428576 0\n",
      "C1 0.19999999999999996 0\n",
      "C2 0.19999999999999996 0\n",
      "C3 0.10476190476190465 0\n",
      "C4 0.057142857142857384 0\n",
      "C5 0.11428571428571432 0\n",
      "C6 0.08571428571428576 0\n",
      "C7 0.10476190476190465 0\n",
      "C8 0.09523809523809518 0\n",
      "C9 0.14285714285714285 0\n",
      "C10 0.0 -1\n",
      "C11 0.14285714285714285 0\n",
      "C12 0.1999999999999984 0\n",
      "C13 0.1047619047619049 0\n",
      "C14 0.08571428571428555 0\n",
      "C15 0.14285714285714335 0\n",
      "R0 0.0 -1\n",
      "R1 0.0 -1\n",
      "R2 0.0 -1\n",
      "R3 0.0 -1\n",
      "R4 0.0 -1\n",
      "R5 0.0 -1\n",
      "R6 0.0 -1\n",
      "R7 0.0 -1\n",
      "R8 0.0 -1\n",
      "R9 0.0 -1\n",
      "R10 0.0 -1\n",
      "R11 0.0 -1\n",
      "R12 0.0 -1\n",
      "R13 0.0 -1\n",
      "R14 0.0 -1\n",
      "R15 0.0 0\n"
     ]
    }
   ],
   "source": [
    "m = read('./DHiGHS/DevBuild/bin/write.mps')\n",
    "x = m.getVars()\n",
    "c = m.getConstrs()\n",
    "for i in range(len(x)):\n",
    "    x[i].vbasis = 0\n",
    "x[10].vbasis = -1\n",
    "for i in range(len(c)):\n",
    "    c[i].cbasis = -1\n",
    "c[15].cbasis = 0\n",
    "m.optimize()\n",
    "for i in range(len(x)):\n",
    "    print(x[i].varName, x[i].x, x[i].vbasis)\n",
    "for i in range(len(c)):\n",
    "    print(c[i].constrName, c[i].slack, c[i].cbasis)"
   ]
  },
  {
   "cell_type": "code",
   "execution_count": null,
   "metadata": {},
   "outputs": [],
   "source": []
  }
 ],
 "metadata": {
  "kernelspec": {
   "display_name": "Python 3",
   "language": "python",
   "name": "python3"
  },
  "language_info": {
   "codemirror_mode": {
    "name": "ipython",
    "version": 3
   },
   "file_extension": ".py",
   "mimetype": "text/x-python",
   "name": "python",
   "nbconvert_exporter": "python",
   "pygments_lexer": "ipython3",
   "version": "3.7.4"
  }
 },
 "nbformat": 4,
 "nbformat_minor": 2
}
