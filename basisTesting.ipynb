{
 "cells": [
  {
   "cell_type": "code",
   "execution_count": 1,
   "metadata": {},
   "outputs": [],
   "source": [
    "from gurobipy import *"
   ]
  },
  {
   "cell_type": "code",
   "execution_count": 2,
   "metadata": {},
   "outputs": [
    {
     "name": "stdout",
     "output_type": "stream",
     "text": [
      "Academic license - for non-commercial use only\n",
      "Read MPS format model from file write.mps\n",
      "Reading time = 0.01 seconds\n",
      ": 35 rows, 35 columns, 179 nonzeros\n"
     ]
    }
   ],
   "source": [
    "m = read(\"write.mps\")\n",
    "m.write(\"test.lp\")"
   ]
  },
  {
   "cell_type": "code",
   "execution_count": 32,
   "metadata": {},
   "outputs": [
    {
     "name": "stdout",
     "output_type": "stream",
     "text": [
      "Read LP format model from file withobj.lp\n",
      "Reading time = 0.00 seconds\n",
      ": 36 rows, 36 columns, 182 nonzeros\n"
     ]
    }
   ],
   "source": [
    "m = read(\"withobj.lp\")"
   ]
  },
  {
   "cell_type": "code",
   "execution_count": 33,
   "metadata": {},
   "outputs": [
    {
     "name": "stdout",
     "output_type": "stream",
     "text": [
      "Changed value of parameter Method to 0\n",
      "   Prev: -1  Min: -1  Max: 5  Default: -1\n",
      "Optimize a model with 36 rows, 36 columns and 182 nonzeros\n",
      "Coefficient statistics:\n",
      "  Matrix range     [1e+00, 6e+00]\n",
      "  Objective range  [1e+00, 1e+00]\n",
      "  Bounds range     [1e+00, 1e+00]\n",
      "  RHS range        [1e+00, 1e+00]\n",
      "Warning: 1 variables dropped from basis\n",
      "Iteration    Objective       Primal Inf.    Dual Inf.      Time\n",
      "       0   -0.0000000e+00   4.575893e-01   0.000000e+00      0s\n",
      "       1   -0.0000000e+00   0.000000e+00   0.000000e+00      0s\n",
      "\n",
      "Solved in 1 iterations and 0.02 seconds\n",
      "Optimal objective -0.000000000e+00\n",
      "C0 = 0.08571428571428567\n",
      "C1 = 0.20000000000000007\n",
      "C2 = 0.19999999999999998\n",
      "C3 = 0.10476190476190479\n",
      "C4 = 0.05714285714285706\n",
      "C5 = 0.11428571428571431\n",
      "C6 = 0.08571428571428572\n",
      "C7 = 0.1047619047619048\n",
      "C8 = 0.0952380952380952\n",
      "C9 = 0.14285714285714285\n",
      "C10 = 0.0\n",
      "C11 = 0.142857142857143\n",
      "C12 = 0.20000000000000048\n",
      "C13 = 0.10476190476190472\n",
      "C14 = 0.08571428571428572\n",
      "C15 = 0.14285714285714282\n",
      "C16 = 0.05714285714285706\n",
      "C17 = 0.05714285714285701\n",
      "C18 = 0.10476190476190474\n",
      "C19 = 0.11428571428571432\n",
      "C20 = 0.08571428571428574\n",
      "C21 = 0.0952380952380952\n",
      "C22 = 0.14285714285714302\n",
      "C23 = 0.1428571428571429\n",
      "C24 = 0.1428571428571429\n",
      "C25 = 0.08571428571428563\n",
      "C26 = 0.10476190476190482\n",
      "C27 = 0.08571428571428574\n",
      "C28 = 0.10476190476190482\n",
      "C29 = 0.05714285714285707\n",
      "C30 = 0.11428571428571425\n",
      "C31 = 0.11428571428571432\n",
      "C32 = 0.09523809523809522\n",
      "C33 = 0.09523809523809519\n",
      "C34 = 0.0\n",
      "C35 = 0.0\n",
      "R0 0.0 -1\n",
      "R1 0.0 -1\n",
      "R2 0.0 -1\n",
      "R3 0.0 -1\n",
      "R4 0.0 -1\n",
      "R5 0.0 -1\n",
      "R6 0.0 -1\n",
      "R7 0.0 -1\n",
      "R8 0.0 -1\n",
      "R9 0.0 -1\n",
      "R10 0.0 -1\n",
      "R11 0.0 0\n",
      "R12 0.0 -1\n",
      "R13 0.0 -1\n",
      "R14 0.0 -1\n",
      "R15 0.0 -1\n",
      "R16 0.0 -1\n",
      "R17 0.0 -1\n",
      "R18 0.0 -1\n",
      "R19 0.0 -1\n",
      "R20 0.0 -1\n",
      "R21 0.0 0\n",
      "R22 0.0 -1\n",
      "R23 0.0 -1\n",
      "R24 0.0 -1\n",
      "R25 0.0 -1\n",
      "R26 0.0 -1\n",
      "R27 0.0 -1\n",
      "R28 0.0 -1\n",
      "R29 0.0 -1\n",
      "R30 0.0 -1\n",
      "R31 0.0 -1\n",
      "R32 0.0 -1\n",
      "R33 0.0 -1\n",
      "R34 0.0 -1\n",
      "R35 0.0 -1\n"
     ]
    }
   ],
   "source": [
    "x = m.getVars()\n",
    "c = m.getConstrs()\n",
    "objcoeff = [20.0, 1.0, 1.0, 15.0, 6.0, 40.0, 20.0, 15.0, 30.0, 6.0, 2.0, 6.0, 1.0, 15.0, 15.0, \n",
    "            6.0, 1.0, 2.0, 6.0, 15.0, 20.0, 12.0, 1.0, 1.0, 1.0, 15.0, 6.0, 15.0, 6.0, 12.0, \n",
    "            30.0, 20.0, 15.0, 6.0, 1.0]\n",
    "# m.remove(x[10])\n",
    "# m.remove(x[34])\n",
    "# m.remove(c[11])\n",
    "# m.remove(c[34])\n",
    "# m.write(\"test_reduced.lp\")\n",
    "for i in range(len(x)):\n",
    "    if i == 10 or i == 35:\n",
    "        x[i].vbasis = -1\n",
    "    else:\n",
    "        x[i].vbasis = 0\n",
    "    objcoeff.append(x[i].obj)\n",
    "for i in range(len(c)):\n",
    "    if i == 11 or i == 10:\n",
    "        c[i].cbasis = 0\n",
    "    else:\n",
    "        c[i].cbasis = -1\n",
    "m.Params.Method = 0\n",
    "m.optimize()\n",
    "obj = 0\n",
    "for i in range(len(x)):\n",
    "#     if i == 10 or i == 34:\n",
    "#         continue\n",
    "    print(x[i].varName, \"=\", x[i].x)#x[i].varName)\n",
    "#     obj += x[i].x * objcoeff[i]\n",
    "for i in range(len(c)):\n",
    "#     if i == 11 or i == 34:\n",
    "#         continue\n",
    "    print(c[i].constrName, c[i].slack, c[i].cbasis)\n",
    "m.write(\"test_solved.lp\")"
   ]
  },
  {
   "cell_type": "code",
   "execution_count": null,
   "metadata": {},
   "outputs": [],
   "source": []
  }
 ],
 "metadata": {
  "kernelspec": {
   "display_name": "Python 3",
   "language": "python",
   "name": "python3"
  },
  "language_info": {
   "codemirror_mode": {
    "name": "ipython",
    "version": 3
   },
   "file_extension": ".py",
   "mimetype": "text/x-python",
   "name": "python",
   "nbconvert_exporter": "python",
   "pygments_lexer": "ipython3",
   "version": "3.7.4"
  }
 },
 "nbformat": 4,
 "nbformat_minor": 2
}
