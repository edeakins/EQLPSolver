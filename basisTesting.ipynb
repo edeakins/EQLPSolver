{
 "cells": [
  {
   "cell_type": "code",
   "execution_count": 10,
   "metadata": {},
   "outputs": [],
   "source": [
    "from gurobipy import *"
   ]
  },
  {
   "cell_type": "code",
   "execution_count": 11,
   "metadata": {},
   "outputs": [
    {
     "name": "stdout",
     "output_type": "stream",
     "text": [
      "Read MPS format model from file write.mps\n",
      "Reading time = 0.00 seconds\n",
      ": 35 rows, 35 columns, 179 nonzeros\n"
     ]
    }
   ],
   "source": [
    "m = read(\"write.mps\")\n",
    "m.write(\"test.lp\")"
   ]
  },
  {
   "cell_type": "code",
   "execution_count": 13,
   "metadata": {},
   "outputs": [
    {
     "name": "stdout",
     "output_type": "stream",
     "text": [
      "Read LP format model from file test.lp\n",
      "Reading time = 0.00 seconds\n",
      ": 36 rows, 36 columns, 182 nonzeros\n"
     ]
    }
   ],
   "source": [
    "m = read(\"test.lp\")"
   ]
  },
  {
   "cell_type": "code",
   "execution_count": 15,
   "metadata": {},
   "outputs": [
    {
     "name": "stdout",
     "output_type": "stream",
     "text": [
      "Parameter Method unchanged\n",
      "   Value: 0  Min: -1  Max: 5  Default: -1\n",
      "Optimize a model with 36 rows, 36 columns and 182 nonzeros\n",
      "Coefficient statistics:\n",
      "  Matrix range     [1e+00, 6e+00]\n",
      "  Objective range  [0e+00, 0e+00]\n",
      "  Bounds range     [1e+00, 1e+00]\n",
      "  RHS range        [1e+00, 1e+00]\n",
      "\n",
      "Solved in 19 iterations and 0.01 seconds\n",
      "Optimal objective  0.000000000e+00\n",
      "C1 0.08571428571428556 0\n",
      "C8 0.09523809523809568 0\n",
      "C11 0.1428571428571425 0\n",
      "C30 0.08571428571428574 0\n",
      "C32 0.09523809523809552 0\n",
      "C0 0.19999999999999912 0\n",
      "C3 0.10476190476190457 0\n",
      "C16 0.05714285714285744 0\n",
      "C19 0.10476190476190549 0\n",
      "C22 0.05714285714285756 0\n",
      "C7 0.1047619047619045 0\n",
      "C12 0.19999999999999957 0\n",
      "C21 0.1047619047619054 0\n",
      "C2 0.19999999999999912 0\n",
      "C18 0.05714285714285527 0\n",
      "C5 0.11428571428571441 0\n",
      "C13 0.10476190476190457 0\n",
      "C24 0.11428571428571374 0\n",
      "C6 0.08571428571428563 0\n",
      "C20 0.11428571428571421 0\n",
      "C25 0.08571428571428556 0\n",
      "C9 0.1428571428571429 0\n",
      "C31 0.08571428571428616 0\n",
      "C10 0.0 -1\n",
      "C15 0.1428571428571425 0\n",
      "C26 0.09523809523809457 0\n",
      "C28 0.14285714285714257 0\n",
      "C34 0.0 -1\n",
      "C29 0.14285714285714501 0\n",
      "C17 0.10476190476190549 0\n",
      "C14 0.08571428571428574 0\n",
      "C27 0.14285714285714501 0\n",
      "C4 0.05714285714285744 0\n",
      "C23 0.1142857142857144 0\n",
      "C33 0.09523809523809457 0\n",
      "r 0.0 -1\n",
      "0 0.0 -1 R0 0.0\n",
      "1 0.0 -1 R1 0.0\n",
      "2 0.0 -1 R2 0.0\n",
      "3 0.0 -1 R3 0.0\n",
      "4 0.0 -1 R4 0.0\n",
      "5 0.0 -1 R5 0.0\n",
      "6 0.0 -1 R6 0.0\n",
      "7 0.0 0 R7 0.0\n",
      "8 0.0 -1 R8 0.0\n",
      "9 0.0 0 R9 0.0\n",
      "10 0.0 -1 R10 0.0\n",
      "11 0.0 -1 R11 -0.0\n",
      "12 0.0 -1 R12 0.0\n",
      "13 0.0 -1 R13 0.0\n",
      "14 0.0 -1 R14 0.0\n",
      "15 0.0 -1 R15 0.0\n",
      "16 0.0 -1 R16 0.0\n",
      "17 0.0 -1 R17 0.0\n",
      "18 0.0 -1 R18 0.0\n",
      "19 0.0 -1 R19 0.0\n",
      "20 0.0 -1 R20 0.0\n",
      "21 0.0 -1 R21 0.0\n",
      "22 0.0 -1 R22 0.0\n",
      "23 0.0 -1 R23 0.0\n",
      "24 0.0 -1 R24 0.0\n",
      "25 0.0 -1 R25 0.0\n",
      "26 0.0 -1 R26 0.0\n",
      "27 0.0 -1 R27 0.0\n",
      "28 0.0 0 R28 0.0\n",
      "29 0.0 -1 R29 0.0\n",
      "30 0.0 -1 R30 0.0\n",
      "31 0.0 -1 R31 0.0\n",
      "32 0.0 -1 R32 0.0\n",
      "33 0.0 -1 R33 0.0\n",
      "34 0.0 -1 R34 0.0\n",
      "35 0.0 -1 R35 0.0\n",
      "0\n"
     ]
    }
   ],
   "source": [
    "x = m.getVars()\n",
    "c = m.getConstrs()\n",
    "objcoeff = [20.0, 1.0, 1.0, 15.0, 6.0, 40.0, 20.0, 15.0, 30.0, 6.0, 2.0, 6.0, 1.0, 15.0, 15.0, \n",
    "            6.0, 1.0, 2.0, 6.0, 15.0, 20.0, 12.0, 1.0, 1.0, 1.0, 15.0, 6.0, 15.0, 6.0, 12.0, \n",
    "            30.0, 20.0, 15.0, 6.0, 1.0]\n",
    "# m.remove(x[10])\n",
    "# m.remove(x[34])\n",
    "# m.remove(c[11])\n",
    "# m.remove(c[34])\n",
    "# m.write(\"test_reduced.lp\")\n",
    "# for i in range(len(x)):\n",
    "#     if i == 10:\n",
    "#         continue\n",
    "#     else:\n",
    "#         x[i].vbasis = 0\n",
    "#     objcoeff.append(x[i].obj)\n",
    "# for i in range(len(c)):\n",
    "#     if i == 11:\n",
    "#         continue\n",
    "#     else:\n",
    "#         c[i].cbasis = -1\n",
    "m.Params.Method = 0\n",
    "m.optimize()\n",
    "obj = 0\n",
    "for i in range(len(x)):\n",
    "#     if i == 10 or i == 34:\n",
    "#         continue\n",
    "    print(x[i].varName, x[i].x, x[i].vbasis)#x[i].varName)\n",
    "#     obj += x[i].x * objcoeff[i]\n",
    "for i in range(len(c)):\n",
    "#     if i == 11 or i == 34:\n",
    "#         continue\n",
    "    print(i, c[i].slack, c[i].cbasis, c[i].constrName, c[i].pi)\n",
    "print(obj)\n",
    "m.write(\"test_solved.lp\")"
   ]
  },
  {
   "cell_type": "code",
   "execution_count": 130,
   "metadata": {},
   "outputs": [
    {
     "name": "stdout",
     "output_type": "stream",
     "text": [
      "Read MPS format model from file ./DHiGHS/DevBuild/bin/write.mps\n",
      "Reading time = 0.00 seconds\n",
      ": 16 rows, 16 columns, 52 nonzeros\n"
     ]
    }
   ],
   "source": [
    "m = read('./DHiGHS/DevBuild/bin/write.mps')\n",
    "m.write('withobjiter2.lp')"
   ]
  },
  {
   "cell_type": "code",
   "execution_count": 120,
   "metadata": {},
   "outputs": [
    {
     "name": "stdout",
     "output_type": "stream",
     "text": [
      "Read LP format model from file withobjiter2.lp\n",
      "Reading time = 0.00 seconds\n",
      ": 13 rows, 13 columns, 40 nonzeros\n",
      "Optimize a model with 13 rows, 13 columns and 40 nonzeros\n",
      "Coefficient statistics:\n",
      "  Matrix range     [1e+00, 7e+00]\n",
      "  Objective range  [1e+00, 1e+00]\n",
      "  Bounds range     [1e+00, 1e+00]\n",
      "  RHS range        [1e+00, 1e+00]\n",
      "Presolve removed 9 rows and 8 columns\n",
      "Presolve time: 0.01s\n",
      "Presolved: 4 rows, 5 columns, 16 nonzeros\n",
      "\n",
      "Iteration    Objective       Primal Inf.    Dual Inf.      Time\n",
      "       0    9.1620000e-01   1.415131e-01   0.000000e+00      0s\n",
      "       2    1.1428571e-01   0.000000e+00   0.000000e+00      0s\n",
      "\n",
      "Solved in 2 iterations and 0.02 seconds\n",
      "Optimal objective  1.142857143e-01\n",
      "0.11428571428571355\n",
      "0.08571428571428572\n",
      "0.09523809523809525\n",
      "0.14285714285714285\n",
      "0.19999999999999926\n",
      "0.10476190476190479\n",
      "0.057142857142857315\n",
      "0.19999999999999973\n",
      "0.10476190476190471\n",
      "0.11428571428571424\n",
      "0.08571428571428572\n",
      "0.14285714285714285\n",
      "0.0\n"
     ]
    }
   ],
   "source": [
    "m = read('withobjiter2.lp')\n",
    "m.optimize()\n",
    "x = m.getVars()\n",
    "c = m.getConstrs()\n",
    "for i in range(len(x)):\n",
    "    print(x[i].x)"
   ]
  },
  {
   "cell_type": "code",
   "execution_count": 135,
   "metadata": {},
   "outputs": [
    {
     "name": "stdout",
     "output_type": "stream",
     "text": [
      "Read MPS format model from file ./DHiGHS/DevBuild/bin/write.mps\n",
      "Reading time = 0.01 seconds\n",
      ": 16 rows, 16 columns, 52 nonzeros\n",
      "Optimize a model with 16 rows, 16 columns and 52 nonzeros\n",
      "Coefficient statistics:\n",
      "  Matrix range     [1e+00, 7e+00]\n",
      "  Objective range  [1e+00, 1e+02]\n",
      "  Bounds range     [1e+00, 1e+00]\n",
      "  RHS range        [1e+00, 1e+00]\n",
      "Iteration    Objective       Primal Inf.    Dual Inf.      Time\n",
      "       0    3.8400000e+01   0.000000e+00   0.000000e+00      0s\n",
      "\n",
      "Solved in 0 iterations and 0.05 seconds\n",
      "Optimal objective  3.840000000e+01\n",
      "C0 0.08571428571428576 0\n",
      "C1 0.19999999999999996 0\n",
      "C2 0.19999999999999996 0\n",
      "C3 0.10476190476190465 0\n",
      "C4 0.057142857142857384 0\n",
      "C5 0.11428571428571432 0\n",
      "C6 0.08571428571428576 0\n",
      "C7 0.10476190476190465 0\n",
      "C8 0.09523809523809518 0\n",
      "C9 0.14285714285714285 0\n",
      "C10 0.0 -1\n",
      "C11 0.14285714285714285 0\n",
      "C12 0.1999999999999984 0\n",
      "C13 0.1047619047619049 0\n",
      "C14 0.08571428571428555 0\n",
      "C15 0.14285714285714335 0\n",
      "R0 0.0 -1\n",
      "R1 0.0 -1\n",
      "R2 0.0 -1\n",
      "R3 0.0 -1\n",
      "R4 0.0 -1\n",
      "R5 0.0 -1\n",
      "R6 0.0 -1\n",
      "R7 0.0 -1\n",
      "R8 0.0 -1\n",
      "R9 0.0 -1\n",
      "R10 0.0 -1\n",
      "R11 0.0 -1\n",
      "R12 0.0 -1\n",
      "R13 0.0 -1\n",
      "R14 0.0 -1\n",
      "R15 0.0 0\n"
     ]
    }
   ],
   "source": [
    "m = read('./DHiGHS/DevBuild/bin/write.mps')\n",
    "x = m.getVars()\n",
    "c = m.getConstrs()\n",
    "for i in range(len(x)):\n",
    "    x[i].vbasis = 0\n",
    "x[10].vbasis = -1\n",
    "for i in range(len(c)):\n",
    "    c[i].cbasis = -1\n",
    "c[15].cbasis = 0\n",
    "m.optimize()\n",
    "for i in range(len(x)):\n",
    "    print(x[i].varName, x[i].x, x[i].vbasis)\n",
    "for i in range(len(c)):\n",
    "    print(c[i].constrName, c[i].slack, c[i].cbasis)"
   ]
  },
  {
   "cell_type": "code",
   "execution_count": null,
   "metadata": {},
   "outputs": [],
   "source": []
  }
 ],
 "metadata": {
  "kernelspec": {
   "display_name": "Python 3",
   "language": "python",
   "name": "python3"
  },
  "language_info": {
   "codemirror_mode": {
    "name": "ipython",
    "version": 3
   },
   "file_extension": ".py",
   "mimetype": "text/x-python",
   "name": "python",
   "nbconvert_exporter": "python",
   "pygments_lexer": "ipython3",
   "version": "3.7.4"
  }
 },
 "nbformat": 4,
 "nbformat_minor": 2
}
