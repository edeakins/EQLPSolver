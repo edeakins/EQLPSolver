{
 "cells": [
  {
   "cell_type": "code",
   "execution_count": 4,
   "metadata": {},
   "outputs": [],
   "source": [
    "from gurobipy import *"
   ]
  },
  {
   "cell_type": "code",
   "execution_count": 51,
   "metadata": {},
   "outputs": [
    {
     "name": "stdout",
     "output_type": "stream",
     "text": [
      "Read MPS format model from file write.mps\n",
      "Reading time = 0.00 seconds\n",
      ": 35 rows, 35 columns, 179 nonzeros\n"
     ]
    }
   ],
   "source": [
    "m = read(\"write.mps\")\n",
    "m.write(\"test.lp\")"
   ]
  },
  {
   "cell_type": "code",
   "execution_count": 65,
   "metadata": {},
   "outputs": [
    {
     "name": "stdout",
     "output_type": "stream",
     "text": [
      "Read LP format model from file withobj.lp\n",
      "Reading time = 0.00 seconds\n",
      ": 36 rows, 36 columns, 182 nonzeros\n"
     ]
    }
   ],
   "source": [
    "m = read(\"withobj.lp\")"
   ]
  },
  {
   "cell_type": "code",
   "execution_count": 66,
   "metadata": {},
   "outputs": [
    {
     "name": "stdout",
     "output_type": "stream",
     "text": [
      "Changed value of parameter Method to 0\n",
      "   Prev: -1  Min: -1  Max: 5  Default: -1\n",
      "Optimize a model with 36 rows, 36 columns and 182 nonzeros\n",
      "Coefficient statistics:\n",
      "  Matrix range     [1e+00, 6e+00]\n",
      "  Objective range  [1e+00, 1e+00]\n",
      "  Bounds range     [1e+00, 1e+00]\n",
      "  RHS range        [1e+00, 1e+00]\n",
      "Iteration    Objective       Primal Inf.    Dual Inf.      Time\n",
      "       0   -0.0000000e+00   0.000000e+00   0.000000e+00      0s\n",
      "\n",
      "Solved in 0 iterations and 0.01 seconds\n",
      "Optimal objective -0.000000000e+00\n",
      "C0 = 0.08571428571428569\n",
      "C1 = 0.19999999999999973\n",
      "C2 = 0.19999999999999996\n",
      "C3 = 0.1047619047619047\n",
      "C4 = 0.05714285714285716\n",
      "C5 = 0.11428571428571427\n",
      "C6 = 0.08571428571428553\n",
      "C7 = 0.10476190476190468\n",
      "C8 = 0.09523809523809534\n",
      "C9 = 0.14285714285714285\n",
      "C10 = 0.0\n",
      "C11 = 0.14285714285714268\n",
      "C12 = 0.20000000000000007\n",
      "C13 = 0.10476190476190464\n",
      "C14 = 0.08571428571428573\n",
      "C15 = 0.14285714285714257\n",
      "C16 = 0.05714285714285716\n",
      "C17 = 0.057142857142856704\n",
      "C18 = 0.10476190476190489\n",
      "C19 = 0.11428571428571414\n",
      "C20 = 0.08571428571428576\n",
      "C21 = 0.09523809523809507\n",
      "C22 = 0.14285714285714457\n",
      "C23 = 0.1428571428571429\n",
      "C24 = 0.14285714285714213\n",
      "C25 = 0.08571428571428574\n",
      "C26 = 0.10476190476190494\n",
      "C27 = 0.08571428571428602\n",
      "C28 = 0.10476190476190492\n",
      "C29 = 0.057142857142857294\n",
      "C30 = 0.11428571428571424\n",
      "C31 = 0.11428571428571437\n",
      "C32 = 0.09523809523809544\n",
      "C33 = 0.09523809523809482\n",
      "C34 = 0.0\n",
      "C35 = 0.0\n",
      "0 0.0 -1 R0 -0.0\n",
      "1 0.0 -1 R1 -0.0\n",
      "2 0.0 -1 R2 -0.0\n",
      "3 0.0 -1 R3 -0.0\n",
      "4 0.0 -1 R4 -0.0\n",
      "5 0.0 -1 R5 -0.0\n",
      "6 0.0 -1 R6 -0.0\n",
      "7 0.0 -1 R7 -0.0\n",
      "8 0.0 -1 R8 -0.0\n",
      "9 0.0 -1 R9 -0.0\n",
      "10 0.0 -1 R10 -0.0\n",
      "11 0.0 0 R11 0.0\n",
      "12 0.0 -1 R12 -0.0\n",
      "13 0.0 -1 R13 -0.0\n",
      "14 0.0 -1 R14 -0.0\n",
      "15 0.0 -1 R15 -0.0\n",
      "16 0.0 -1 R16 -0.0\n",
      "17 0.0 -1 R17 -0.0\n",
      "18 0.0 -1 R18 -0.0\n",
      "19 0.0 -1 R19 -0.0\n",
      "20 0.0 -1 R20 -0.0\n",
      "21 0.0 -1 R21 -0.0\n",
      "22 0.0 -1 R22 -0.0\n",
      "23 0.0 -1 R23 -0.0\n",
      "24 0.0 -1 R24 -0.0\n",
      "25 0.0 -1 R25 -0.0\n",
      "26 0.0 -1 R26 -0.0\n",
      "27 0.0 -1 R27 -0.0\n",
      "28 0.0 -1 R28 -0.0\n",
      "29 0.0 -1 R29 -0.0\n",
      "30 0.0 -1 R30 -0.0\n",
      "31 0.0 -1 R31 -0.0\n",
      "32 0.0 -1 R32 -0.0\n",
      "33 0.0 -1 R33 -0.0\n",
      "34 0.0 0 R34 0.0\n",
      "35 0.0 -1 R35 -0.0\n",
      "0\n"
     ]
    }
   ],
   "source": [
    "x = m.getVars()\n",
    "c = m.getConstrs()\n",
    "objcoeff = [20.0, 1.0, 1.0, 15.0, 6.0, 40.0, 20.0, 15.0, 30.0, 6.0, 2.0, 6.0, 1.0, 15.0, 15.0, \n",
    "            6.0, 1.0, 2.0, 6.0, 15.0, 20.0, 12.0, 1.0, 1.0, 1.0, 15.0, 6.0, 15.0, 6.0, 12.0, \n",
    "            30.0, 20.0, 15.0, 6.0, 1.0]\n",
    "# m.remove(x[10])\n",
    "# m.remove(x[34])\n",
    "# m.remove(c[11])\n",
    "# m.remove(c[34])\n",
    "# m.write(\"test_reduced.lp\")\n",
    "for i in range(len(x)):\n",
    "    if i == 10 or i == 35:\n",
    "        x[i].vbasis = -1\n",
    "    else:\n",
    "        x[i].vbasis = 0\n",
    "    objcoeff.append(x[i].obj)\n",
    "for i in range(len(c)):\n",
    "    if i == 11 or i == 34:\n",
    "        c[i].cbasis = 0\n",
    "    else:\n",
    "        c[i].cbasis = -1\n",
    "m.Params.Method = 0\n",
    "m.optimize()\n",
    "obj = 0\n",
    "for i in range(len(x)):\n",
    "#     if i == 10 or i == 34:\n",
    "#         continue\n",
    "    print(x[i].varName, \"=\", x[i].x)#x[i].varName)\n",
    "#     obj += x[i].x * objcoeff[i]\n",
    "for i in range(len(c)):\n",
    "#     if i == 11 or i == 34:\n",
    "#         continue\n",
    "    print(i, c[i].slack, c[i].cbasis, c[i].constrName, c[i].pi)\n",
    "print(obj)\n",
    "m.write(\"test_solved.lp\")"
   ]
  },
  {
   "cell_type": "code",
   "execution_count": 67,
   "metadata": {},
   "outputs": [
    {
     "name": "stdout",
     "output_type": "stream",
     "text": [
      "Optimize a model with 36 rows, 36 columns and 182 nonzeros\n",
      "Coefficient statistics:\n",
      "  Matrix range     [1e+00, 6e+00]\n",
      "  Objective range  [1e+00, 1e+00]\n",
      "  Bounds range     [1e+00, 1e+00]\n",
      "  RHS range        [1e+00, 1e+00]\n",
      "Iteration    Objective       Primal Inf.    Dual Inf.      Time\n",
      "       0   -1.0000000e+00   1.648810e+00   2.578572e+06      0s\n",
      "       2    6.6666667e-02   0.000000e+00   0.000000e+00      0s\n",
      "\n",
      "Solved in 2 iterations and 0.01 seconds\n",
      "Optimal objective  6.666666667e-02\n",
      "C0 = 0.07999999999999996 0\n",
      "C1 = 0.19999999999999984 0\n",
      "C2 = 0.20000000000000018 0\n",
      "C3 = 0.09333333333333338 0\n",
      "C4 = 0.06666666666666665 0\n",
      "C5 = 0.12 0\n",
      "C6 = 0.08000000000000002 0\n",
      "C7 = 0.09333333333333331 0\n",
      "C8 = 0.10666666666666665 0\n",
      "C9 = 0.13333333333333336 0\n",
      "C10 = 0.0 -1\n",
      "C11 = 0.13333333333333344 0\n",
      "C12 = 0.19999999999999996 0\n",
      "C13 = 0.09333333333333334 0\n",
      "C14 = 0.0933333333333333 0\n",
      "C15 = 0.1333333333333333 0\n",
      "C16 = 0.0 -1\n",
      "C17 = 0.0 0\n",
      "C18 = 0.13333333333333333 0\n",
      "C19 = 0.10666666666666669 0\n",
      "C20 = 0.08000000000000004 0\n",
      "C21 = 0.06666666666666668 0\n",
      "C22 = 0.20000000000000018 0\n",
      "C23 = 0.19999999999999984 0\n",
      "C24 = 0.19999999999999984 0\n",
      "C25 = 0.09333333333333331 0\n",
      "C26 = 0.13333333333333336 0\n",
      "C27 = 0.09333333333333334 0\n",
      "C28 = 0.1333333333333333 0\n",
      "C29 = 0.06666666666666665 0\n",
      "C30 = 0.10666666666666669 0\n",
      "C31 = 0.12000000000000002 0\n",
      "C32 = 0.10666666666666663 0\n",
      "C33 = 0.06666666666666668 0\n",
      "C34 = 0.0 0\n",
      "C35 = 0.06666666666666665 0\n",
      "0 0.0 -1 R0 0.1785714285714286\n",
      "1 0.0 -1 R1 0.09285714285714287\n",
      "2 0.0 -1 R2 0.09285714285714286\n",
      "3 0.0 -1 R3 -0.10714285714285716\n",
      "4 0.0 -1 R4 0.035714285714285615\n",
      "5 0.0 -1 R5 -0.16071428571428575\n",
      "6 0.0 -1 R6 -0.16071428571428578\n",
      "7 0.0 -1 R7 0.2857142857142857\n",
      "8 0.0 -1 R8 0.17857142857142863\n",
      "9 0.0 -1 R9 -0.4285714285714286\n",
      "10 0.0 -1 R10 -0.0\n",
      "11 0.0 0 R11 0.0\n",
      "12 0.0 -1 R12 0.09285714285714289\n",
      "13 0.0 -1 R13 -0.21428571428571427\n",
      "14 0.0 -1 R14 0.17857142857142858\n",
      "15 0.0 -1 R15 -0.0\n",
      "16 0.0 -1 R16 0.01547619047619046\n",
      "17 0.0 -1 R17 0.015476190476190477\n",
      "18 0.0 -1 R18 -0.001190476190476169\n",
      "19 0.0 -1 R19 0.12142857142857152\n",
      "20 0.0 -1 R20 0.015476190476190445\n",
      "21 0.0 -1 R21 0.014285714285714391\n",
      "22 0.0 -1 R22 -0.16071428571428575\n",
      "23 0.0 -1 R23 0.2142857142857143\n",
      "24 0.0 -1 R24 0.07142857142857137\n",
      "25 0.0 -1 R25 -0.07142857142857137\n",
      "26 0.0 -1 R26 0.07142857142857137\n",
      "27 0.0 -1 R27 -0.21428571428571422\n",
      "28 0.0 -1 R28 0.07142857142857137\n",
      "29 0.0 -1 R29 -0.21428571428571425\n",
      "30 0.0 -1 R30 0.3035714285714285\n",
      "31 0.0 -1 R31 -0.14285714285714293\n",
      "32 0.0 -1 R32 -6.938893903907228e-18\n",
      "33 0.0 -1 R33 -0.10714285714285705\n",
      "34 0.0 0 R34 0.0\n",
      "35 0.0 -1 R35 -1.0\n",
      "0\n"
     ]
    }
   ],
   "source": [
    "x[35].obj = 1\n",
    "x[35].lb = -1\n",
    "x[35].ub = 1\n",
    "m.update()\n",
    "m.optimize()\n",
    "for i in range(len(x)):\n",
    "#     if i == 10 or i == 34:\n",
    "#         continue\n",
    "    print(x[i].varName, \"=\", x[i].x, x[i].vbasis)#x[i].varName)\n",
    "#     obj += x[i].x * objcoeff[i]\n",
    "for i in range(len(c)):\n",
    "#     if i == 11 or i == 34:\n",
    "#         continue\n",
    "    print(i, c[i].slack, c[i].cbasis, c[i].constrName, c[i].pi)\n",
    "print(obj)"
   ]
  },
  {
   "cell_type": "code",
   "execution_count": 69,
   "metadata": {},
   "outputs": [
    {
     "data": {
      "text/plain": [
       "0.09523800000000002"
      ]
     },
     "execution_count": 69,
     "metadata": {},
     "output_type": "execute_result"
    }
   ],
   "source": [
    "(.2 - 0.104762)"
   ]
  },
  {
   "cell_type": "code",
   "execution_count": 70,
   "metadata": {},
   "outputs": [
    {
     "data": {
      "text/plain": [
       "0.11428570000000002"
      ]
     },
     "execution_count": 70,
     "metadata": {},
     "output_type": "execute_result"
    }
   ],
   "source": [
    "(.2 - 0.0857143)"
   ]
  },
  {
   "cell_type": "code",
   "execution_count": 71,
   "metadata": {},
   "outputs": [
    {
     "data": {
      "text/plain": [
       "0.09523804523810002"
      ]
     },
     "execution_count": 71,
     "metadata": {},
     "output_type": "execute_result"
    }
   ],
   "source": [
    "0.11428570000000002*0.833333"
   ]
  },
  {
   "cell_type": "code",
   "execution_count": null,
   "metadata": {},
   "outputs": [],
   "source": []
  }
 ],
 "metadata": {
  "kernelspec": {
   "display_name": "Python 3",
   "language": "python",
   "name": "python3"
  },
  "language_info": {
   "codemirror_mode": {
    "name": "ipython",
    "version": 3
   },
   "file_extension": ".py",
   "mimetype": "text/x-python",
   "name": "python",
   "nbconvert_exporter": "python",
   "pygments_lexer": "ipython3",
   "version": "3.7.4"
  }
 },
 "nbformat": 4,
 "nbformat_minor": 2
}
