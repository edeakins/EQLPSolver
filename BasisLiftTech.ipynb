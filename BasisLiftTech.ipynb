{
 "cells": [
  {
   "cell_type": "code",
   "execution_count": 66,
   "metadata": {},
   "outputs": [],
   "source": [
    "from gurobipy import *"
   ]
  },
  {
   "cell_type": "code",
   "execution_count": 67,
   "metadata": {},
   "outputs": [
    {
     "name": "stdout",
     "output_type": "stream",
     "text": [
      "Read LP format model from file blift.lp\n",
      "Reading time = 0.00 seconds\n",
      ": 6 rows, 8 columns, 18 nonzeros\n"
     ]
    }
   ],
   "source": [
    "m = read('blift.lp')"
   ]
  },
  {
   "cell_type": "code",
   "execution_count": 68,
   "metadata": {},
   "outputs": [
    {
     "name": "stdout",
     "output_type": "stream",
     "text": [
      "Gurobi Optimizer version 9.0.2 build v9.0.2rc0 (mac64)\n",
      "Optimize a model with 6 rows, 8 columns and 18 nonzeros\n",
      "Model fingerprint: 0x7ab5d79a\n",
      "Coefficient statistics:\n",
      "  Matrix range     [1e+00, 4e+00]\n",
      "  Objective range  [1e+00, 1e+00]\n",
      "  Bounds range     [1e+00, 1e+00]\n",
      "  RHS range        [1e+00, 2e+00]\n",
      "Presolve removed 6 rows and 8 columns\n",
      "Presolve time: 0.01s\n",
      "Presolve: All rows and columns removed\n",
      "Iteration    Objective       Primal Inf.    Dual Inf.      Time\n",
      "       0    4.0000000e-01   0.000000e+00   0.000000e+00      0s\n",
      "\n",
      "Solved in 0 iterations and 0.02 seconds\n",
      "Optimal objective  4.000000000e-01\n",
      "r01 = 0.4\n",
      "x0 = 0.4\n",
      "x1 = 0.0\n",
      "x2 = 0.4\n",
      "s0 = 0.06666666666666668\n",
      "s1 = 0.06666666666666668\n",
      "s2 = 0.06666666666666668\n",
      "r02 = 0.0\n",
      "R0 = 2.0\n",
      "R1 = 1.0\n",
      "R2 = 0.0\n",
      "R3 = 0.0\n",
      "R4 = 0.0\n",
      "R5 = 0.0\n"
     ]
    }
   ],
   "source": [
    "m.optimize()\n",
    "for x in m.getVars():\n",
    "    print (x.varName, \"=\", x.x)\n",
    "for c in m.getConstrs():\n",
    "    print (c.constrName, \"=\", c.rhs)"
   ]
  },
  {
   "cell_type": "code",
   "execution_count": null,
   "metadata": {},
   "outputs": [],
   "source": []
  }
 ],
 "metadata": {
  "kernelspec": {
   "display_name": "Python 3",
   "language": "python",
   "name": "python3"
  },
  "language_info": {
   "codemirror_mode": {
    "name": "ipython",
    "version": 3
   },
   "file_extension": ".py",
   "mimetype": "text/x-python",
   "name": "python",
   "nbconvert_exporter": "python",
   "pygments_lexer": "ipython3",
   "version": "3.7.7"
  }
 },
 "nbformat": 4,
 "nbformat_minor": 4
}
