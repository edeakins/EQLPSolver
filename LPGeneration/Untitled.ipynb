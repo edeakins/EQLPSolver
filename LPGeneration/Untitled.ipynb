{
 "cells": [
  {
   "cell_type": "code",
   "execution_count": 7,
   "metadata": {},
   "outputs": [
    {
     "name": "stdout",
     "output_type": "stream",
     "text": [
      "Matrix : Matrix([[0.500000000000000, 0.500000000000000, 0.500000000000000, -0.500000000000000, 0, 0], [1, -1, 0, 0, -1, 0]]) \n",
      "The Row echelon form of matrix M and the pivot columns : (Matrix([\n",
      "[1, 0, 0.5, -0.5, -0.5, 0],\n",
      "[0, 1, 0.5, -0.5,  0.5, 0]]), (0, 1))\n"
     ]
    }
   ],
   "source": [
    "\n",
    "# import sympy \n",
    "from sympy import * \n",
    "  \n",
    "M = Matrix([\n",
    " [ 0.5, 0.5, 0.5, -0.5, 0, 0 ],\n",
    " [ 1, -1, 0, 0, -1, 0 ],\n",
    " ])\n",
    "print(\"Matrix : {} \".format(M))\n",
    "   \n",
    "# Use sympy.rref() method \n",
    "M_rref = M.rref()  \n",
    "      \n",
    "print(\"The Row echelon form of matrix M and the pivot columns : {}\".format(M_rref)) "
   ]
  },
  {
   "cell_type": "code",
   "execution_count": null,
   "metadata": {},
   "outputs": [],
   "source": []
  }
 ],
 "metadata": {
  "kernelspec": {
   "display_name": "Python 3",
   "language": "python",
   "name": "python3"
  },
  "language_info": {
   "codemirror_mode": {
    "name": "ipython",
    "version": 3
   },
   "file_extension": ".py",
   "mimetype": "text/x-python",
   "name": "python",
   "nbconvert_exporter": "python",
   "pygments_lexer": "ipython3",
   "version": "3.8.3"
  }
 },
 "nbformat": 4,
 "nbformat_minor": 4
}
