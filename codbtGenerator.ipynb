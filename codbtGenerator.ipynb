{
 "cells": [
  {
   "cell_type": "code",
   "execution_count": 1,
   "metadata": {},
   "outputs": [
    {
     "name": "stdout",
     "output_type": "stream",
     "text": [
      "Using license file /home/edeakins/gurobi.lic\n",
      "Academic license - for non-commercial use only - expires 2021-03-05\n",
      "Read MPS format model from file jim_instances/cod733.mps\n",
      "Reading time = 0.01 seconds\n",
      "obj: 2187 rows, 2187 columns, 32805 nonzeros\n"
     ]
    }
   ],
   "source": [
    "from gurobipy import *\n",
    "m = read(\"jim_instances/cod733.mps\")"
   ]
  },
  {
   "cell_type": "code",
   "execution_count": 3,
   "metadata": {},
   "outputs": [
    {
     "name": "stdout",
     "output_type": "stream",
     "text": [
      "Gurobi Optimizer version 9.1.0 build v9.1.0rc0 (linux64)\n",
      "Thread count: 12 physical cores, 24 logical processors, using up to 24 threads\n",
      "Optimize a model with 2187 rows, 2187 columns and 32805 nonzeros\n",
      "Model fingerprint: 0x5abb019c\n",
      "Coefficient statistics:\n",
      "  Matrix range     [1e+00, 1e+00]\n",
      "  Objective range  [1e+00, 1e+00]\n",
      "  Bounds range     [1e+00, 1e+00]\n",
      "  RHS range        [1e+00, 1e+00]\n",
      "\n",
      "Concurrent LP optimizer: primal simplex, dual simplex, and barrier\n",
      "Showing barrier log only...\n",
      "\n",
      "Presolve time: 0.02s\n",
      "Presolved: 2187 rows, 2187 columns, 32805 nonzeros\n",
      "\n",
      "Iteration    Objective       Primal Inf.    Dual Inf.      Time\n",
      "       0   -1.4580000e+02   0.000000e+00   0.000000e+00      0s\n",
      "\n",
      "Use crossover to convert LP symmetric solution to basic solution...\n",
      "Crossover log...\n",
      "\n",
      "     672 DPushes remaining with DInf 0.0000000e+00                 4s\n",
      "       0 DPushes remaining with DInf 0.0000000e+00                 5s\n",
      "\n",
      "     672 PPushes remaining with PInf 0.0000000e+00                 5s\n",
      "     671 PPushes remaining with PInf 0.0000000e+00                 5s\n",
      "       0 PPushes remaining with PInf 0.0000000e+00                 6s\n",
      "\n",
      "  Push phase complete: Pinf 0.0000000e+00, Dinf 2.2496090e-11      6s\n",
      "\n",
      "Iteration    Objective       Primal Inf.    Dual Inf.      Time\n",
      "    1346   -1.4580000e+02   0.000000e+00   0.000000e+00      6s\n",
      "\n",
      "Solved with dual simplex\n",
      "Solved in 1346 iterations and 6.12 seconds\n",
      "Optimal objective -1.458000000e+02\n"
     ]
    }
   ],
   "source": [
    "p = m.relax()\n",
    "p.optimize()"
   ]
  },
  {
   "cell_type": "code",
   "execution_count": null,
   "metadata": {},
   "outputs": [],
   "source": []
  }
 ],
 "metadata": {
  "kernelspec": {
   "display_name": "Python 3",
   "language": "python",
   "name": "python3"
  },
  "language_info": {
   "codemirror_mode": {
    "name": "ipython",
    "version": 3
   },
   "file_extension": ".py",
   "mimetype": "text/x-python",
   "name": "python",
   "nbconvert_exporter": "python",
   "pygments_lexer": "ipython3",
   "version": "3.8.3"
  }
 },
 "nbformat": 4,
 "nbformat_minor": 4
}
